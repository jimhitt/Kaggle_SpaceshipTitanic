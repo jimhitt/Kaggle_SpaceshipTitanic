{
 "cells": [
  {
   "cell_type": "markdown",
   "metadata": {},
   "source": [
    "## Begning data exploration of data set.\n",
    "- The data are located in the data folder.\n",
    "- There are the following files:\n",
    "    - train.csv\n",
    "    - test.csv\n",
    "    - sample_submission.csv"
   ]
  },
  {
   "cell_type": "code",
   "execution_count": 1,
   "metadata": {},
   "outputs": [],
   "source": [
    "import numpy as np\n",
    "import matplotlib.pyplot as plt\n",
    "import pandas as pd\n",
    "import seaborn as sns\n",
    "\n",
    "# initialize a varialbe to print descriptive statstic results\n",
    "print_stats = True"
   ]
  },
  {
   "cell_type": "markdown",
   "metadata": {},
   "source": [
    "### Next, start by loading data, looking at data types, and looking at missing values"
   ]
  },
  {
   "cell_type": "code",
   "execution_count": 2,
   "metadata": {},
   "outputs": [
    {
     "name": "stdout",
     "output_type": "stream",
     "text": [
      "  PassengerId HomePlanet CryoSleep  Cabin    Destination   Age    VIP  \\\n",
      "0     0001_01     Europa     False  B/0/P    TRAPPIST-1e  39.0  False   \n",
      "1     0002_01      Earth     False  F/0/S    TRAPPIST-1e  24.0  False   \n",
      "2     0003_01     Europa     False  A/0/S    TRAPPIST-1e  58.0   True   \n",
      "3     0003_02     Europa     False  A/0/S    TRAPPIST-1e  33.0  False   \n",
      "4     0004_01      Earth     False  F/1/S    TRAPPIST-1e  16.0  False   \n",
      "5     0005_01      Earth     False  F/0/P  PSO J318.5-22  44.0  False   \n",
      "6     0006_01      Earth     False  F/2/S    TRAPPIST-1e  26.0  False   \n",
      "7     0006_02      Earth      True  G/0/S    TRAPPIST-1e  28.0  False   \n",
      "8     0007_01      Earth     False  F/3/S    TRAPPIST-1e  35.0  False   \n",
      "9     0008_01     Europa      True  B/1/P    55 Cancri e  14.0  False   \n",
      "\n",
      "   RoomService  FoodCourt  ShoppingMall     Spa  VRDeck                Name  \\\n",
      "0          0.0        0.0           0.0     0.0     0.0     Maham Ofracculy   \n",
      "1        109.0        9.0          25.0   549.0    44.0        Juanna Vines   \n",
      "2         43.0     3576.0           0.0  6715.0    49.0       Altark Susent   \n",
      "3          0.0     1283.0         371.0  3329.0   193.0        Solam Susent   \n",
      "4        303.0       70.0         151.0   565.0     2.0   Willy Santantines   \n",
      "5          0.0      483.0           0.0   291.0     0.0   Sandie Hinetthews   \n",
      "6         42.0     1539.0           3.0     0.0     0.0  Billex Jacostaffey   \n",
      "7          0.0        0.0           0.0     0.0     NaN  Candra Jacostaffey   \n",
      "8          0.0      785.0          17.0   216.0     0.0       Andona Beston   \n",
      "9          0.0        0.0           0.0     0.0     0.0      Erraiam Flatic   \n",
      "\n",
      "   Transported  \n",
      "0        False  \n",
      "1         True  \n",
      "2        False  \n",
      "3        False  \n",
      "4         True  \n",
      "5         True  \n",
      "6         True  \n",
      "7         True  \n",
      "8         True  \n",
      "9         True  \n"
     ]
    }
   ],
   "source": [
    "# load data from data/train.csv into a pandas dataframe\n",
    "df = pd.read_csv('data/train.csv')\n",
    "\n",
    "# view first 10 rows of data\n",
    "if print_stats:\n",
    "    print(df.head(10))\n"
   ]
  },
  {
   "cell_type": "markdown",
   "metadata": {},
   "source": [
    "### Some variables can be dropped\n",
    "- Save the `Transported` variable as `y`\n",
    "- Drop `Name` and `PassengerId` from the `X` set"
   ]
  },
  {
   "cell_type": "code",
   "execution_count": 3,
   "metadata": {},
   "outputs": [
    {
     "name": "stdout",
     "output_type": "stream",
     "text": [
      "Data Summary\n"
     ]
    },
    {
     "data": {
      "text/html": [
       "<div>\n",
       "<style scoped>\n",
       "    .dataframe tbody tr th:only-of-type {\n",
       "        vertical-align: middle;\n",
       "    }\n",
       "\n",
       "    .dataframe tbody tr th {\n",
       "        vertical-align: top;\n",
       "    }\n",
       "\n",
       "    .dataframe thead th {\n",
       "        text-align: right;\n",
       "    }\n",
       "</style>\n",
       "<table border=\"1\" class=\"dataframe\">\n",
       "  <thead>\n",
       "    <tr style=\"text-align: right;\">\n",
       "      <th></th>\n",
       "      <th>Age</th>\n",
       "      <th>RoomService</th>\n",
       "      <th>FoodCourt</th>\n",
       "      <th>ShoppingMall</th>\n",
       "      <th>Spa</th>\n",
       "      <th>VRDeck</th>\n",
       "    </tr>\n",
       "  </thead>\n",
       "  <tbody>\n",
       "    <tr>\n",
       "      <th>count</th>\n",
       "      <td>8514.000000</td>\n",
       "      <td>8512.000000</td>\n",
       "      <td>8510.000000</td>\n",
       "      <td>8485.000000</td>\n",
       "      <td>8510.000000</td>\n",
       "      <td>8505.000000</td>\n",
       "    </tr>\n",
       "    <tr>\n",
       "      <th>mean</th>\n",
       "      <td>28.827930</td>\n",
       "      <td>224.687617</td>\n",
       "      <td>458.077203</td>\n",
       "      <td>173.729169</td>\n",
       "      <td>311.138778</td>\n",
       "      <td>304.854791</td>\n",
       "    </tr>\n",
       "    <tr>\n",
       "      <th>std</th>\n",
       "      <td>14.489021</td>\n",
       "      <td>666.717663</td>\n",
       "      <td>1611.489240</td>\n",
       "      <td>604.696458</td>\n",
       "      <td>1136.705535</td>\n",
       "      <td>1145.717189</td>\n",
       "    </tr>\n",
       "    <tr>\n",
       "      <th>min</th>\n",
       "      <td>0.000000</td>\n",
       "      <td>0.000000</td>\n",
       "      <td>0.000000</td>\n",
       "      <td>0.000000</td>\n",
       "      <td>0.000000</td>\n",
       "      <td>0.000000</td>\n",
       "    </tr>\n",
       "    <tr>\n",
       "      <th>25%</th>\n",
       "      <td>19.000000</td>\n",
       "      <td>0.000000</td>\n",
       "      <td>0.000000</td>\n",
       "      <td>0.000000</td>\n",
       "      <td>0.000000</td>\n",
       "      <td>0.000000</td>\n",
       "    </tr>\n",
       "    <tr>\n",
       "      <th>50%</th>\n",
       "      <td>27.000000</td>\n",
       "      <td>0.000000</td>\n",
       "      <td>0.000000</td>\n",
       "      <td>0.000000</td>\n",
       "      <td>0.000000</td>\n",
       "      <td>0.000000</td>\n",
       "    </tr>\n",
       "    <tr>\n",
       "      <th>75%</th>\n",
       "      <td>38.000000</td>\n",
       "      <td>47.000000</td>\n",
       "      <td>76.000000</td>\n",
       "      <td>27.000000</td>\n",
       "      <td>59.000000</td>\n",
       "      <td>46.000000</td>\n",
       "    </tr>\n",
       "    <tr>\n",
       "      <th>max</th>\n",
       "      <td>79.000000</td>\n",
       "      <td>14327.000000</td>\n",
       "      <td>29813.000000</td>\n",
       "      <td>23492.000000</td>\n",
       "      <td>22408.000000</td>\n",
       "      <td>24133.000000</td>\n",
       "    </tr>\n",
       "  </tbody>\n",
       "</table>\n",
       "</div>"
      ],
      "text/plain": [
       "               Age   RoomService     FoodCourt  ShoppingMall           Spa  \\\n",
       "count  8514.000000   8512.000000   8510.000000   8485.000000   8510.000000   \n",
       "mean     28.827930    224.687617    458.077203    173.729169    311.138778   \n",
       "std      14.489021    666.717663   1611.489240    604.696458   1136.705535   \n",
       "min       0.000000      0.000000      0.000000      0.000000      0.000000   \n",
       "25%      19.000000      0.000000      0.000000      0.000000      0.000000   \n",
       "50%      27.000000      0.000000      0.000000      0.000000      0.000000   \n",
       "75%      38.000000     47.000000     76.000000     27.000000     59.000000   \n",
       "max      79.000000  14327.000000  29813.000000  23492.000000  22408.000000   \n",
       "\n",
       "             VRDeck  \n",
       "count   8505.000000  \n",
       "mean     304.854791  \n",
       "std     1145.717189  \n",
       "min        0.000000  \n",
       "25%        0.000000  \n",
       "50%        0.000000  \n",
       "75%       46.000000  \n",
       "max    24133.000000  "
      ]
     },
     "execution_count": 3,
     "metadata": {},
     "output_type": "execute_result"
    }
   ],
   "source": [
    "# make a copy of the df and save as X\n",
    "X = df.copy()\n",
    "\n",
    "# drop Transported and save as y\n",
    "y = X.pop('Transported')\n",
    "\n",
    "# exclude the Passenger_Id and Name columns\n",
    "X.drop(['PassengerId', 'Name'], axis=1, inplace=True)\n",
    "\n",
    "print('Data Summary')\n",
    "X.describe()"
   ]
  },
  {
   "cell_type": "markdown",
   "metadata": {},
   "source": [
    "### Take a look at data types and missing variables"
   ]
  },
  {
   "cell_type": "code",
   "execution_count": 4,
   "metadata": {},
   "outputs": [
    {
     "name": "stdout",
     "output_type": "stream",
     "text": [
      "                dtype  missing  missing_pct\n",
      "HomePlanet     object      201     2.312205\n",
      "CryoSleep      object      217     2.496261\n",
      "Cabin          object      199     2.289198\n",
      "Destination    object      182     2.093639\n",
      "Age           float64      179     2.059128\n",
      "VIP            object      203     2.335212\n",
      "RoomService   float64      181     2.082135\n",
      "FoodCourt     float64      183     2.105142\n",
      "ShoppingMall  float64      208     2.392730\n",
      "Spa           float64      183     2.105142\n",
      "VRDeck        float64      188     2.162660\n"
     ]
    }
   ],
   "source": [
    "# create a dataframe where the rows are column names from X\n",
    "# and the columns are the data type and number of rows with missing data\n",
    "\n",
    "df_analysis = pd.DataFrame(columns=['dtype', 'missing'])\n",
    "df_analysis['dtype'] = X.dtypes\n",
    "df_analysis['missing'] = X.isnull().sum()\n",
    "df_analysis['missing_pct'] = df_analysis['missing'] / len(X) * 100\n",
    "\n",
    "if print_stats:\n",
    "    print(df_analysis)"
   ]
  },
  {
   "cell_type": "markdown",
   "metadata": {},
   "source": [
    "### There are mixture of categorical and numeric data columns\n",
    "Will need to split columns into categorical and numeric.\n",
    "### Each column is missing about 2% of data, so we need to see if we can just drop the data"
   ]
  },
  {
   "cell_type": "code",
   "execution_count": 5,
   "metadata": {},
   "outputs": [
    {
     "name": "stdout",
     "output_type": "stream",
     "text": [
      "Number of rows with missing data: 2087\n",
      "Percentage of rows with missing data: 24.01 %\n"
     ]
    }
   ],
   "source": [
    "# calculate the number of rows with missing data\n",
    "num_rows_missing = df.isnull().any(axis=1).sum()\n",
    "\n",
    "# calculate the percentage of rows with missing data\n",
    "percent_rows_missing = round((num_rows_missing / len(df)) * 100, 2)\n",
    "\n",
    "# print the results\n",
    "if print_stats:\n",
    "    print(\"Number of rows with missing data:\", num_rows_missing)\n",
    "    print(\"Percentage of rows with missing data:\", percent_rows_missing, \"%\")\n"
   ]
  },
  {
   "cell_type": "markdown",
   "metadata": {},
   "source": [
    "### Given that 24% of columns are missing some data, we shouldn't only keep complete rows.\n",
    "#### will need to impute median/mode for missing values"
   ]
  },
  {
   "cell_type": "code",
   "execution_count": 6,
   "metadata": {},
   "outputs": [
    {
     "name": "stdout",
     "output_type": "stream",
     "text": [
      "HomePlanet      0\n",
      "CryoSleep       0\n",
      "Cabin           0\n",
      "Destination     0\n",
      "Age             0\n",
      "VIP             0\n",
      "RoomService     0\n",
      "FoodCourt       0\n",
      "ShoppingMall    0\n",
      "Spa             0\n",
      "VRDeck          0\n",
      "dtype: int64\n"
     ]
    }
   ],
   "source": [
    "# Separating numerical and categorical columns\n",
    "numerical_columns = X.select_dtypes(include=['float64', 'int64']).columns\n",
    "categorical_columns = X.select_dtypes(include=['object', 'bool']).columns\n",
    "\n",
    "# impute missing numerical values with the median\n",
    "for col in numerical_columns:\n",
    "    X[col].fillna(X[col].median(), inplace=True)\n",
    "\n",
    "# impute mode for missing categorical values\n",
    "for col in categorical_columns:\n",
    "    X[col].fillna(X[col].mode()[0], inplace=True)\n",
    "\n",
    "# check for missing values\n",
    "if print_stats:\n",
    "    print(X.isnull().sum())"
   ]
  },
  {
   "cell_type": "markdown",
   "metadata": {},
   "source": [
    "### Look at data distributions"
   ]
  },
  {
   "cell_type": "code",
   "execution_count": 7,
   "metadata": {},
   "outputs": [
    {
     "data": {
      "text/plain": [
       "<Axes: xlabel='Transported'>"
      ]
     },
     "execution_count": 7,
     "metadata": {},
     "output_type": "execute_result"
    },
    {
     "data": {
      "image/png": "[encoded data removed]",
      "text/plain": [
       "<Figure size 640x480 with 1 Axes>"
      ]
     },
     "metadata": {},
     "output_type": "display_data"
    }
   ],
   "source": [
    "# Plot the value counts of y (Transported)\n",
    "y.value_counts().plot(kind='bar', rot=0)"
   ]
  },
  {
   "cell_type": "markdown",
   "metadata": {},
   "source": [
    "#### The value counts of Transported are balanced\n",
    "### Next, look at the distribution of numeric variables"
   ]
  },
  {
   "cell_type": "code",
   "execution_count": 8,
   "metadata": {},
   "outputs": [
    {
     "name": "stderr",
     "output_type": "stream",
     "text": [
      "/var/folders/_7/jc101n2d4n79l6kv7vkhr89r0000gn/T/ipykernel_56408/475465569.py:6: UserWarning: \n",
      "\n",
      "`distplot` is a deprecated function and will be removed in seaborn v0.14.0.\n",
      "\n",
      "Please adapt your code to use either `displot` (a figure-level function with\n",
      "similar flexibility) or `histplot` (an axes-level function for histograms).\n",
      "\n",
      "For a guide to updating your code to use the new functions, please see\n",
      "https://gist.github.com/mwaskom/de44147ed2974457ad6372750bbe5751\n",
      "\n",
      "  sns.distplot(X[variable], ax=subplot)\n",
      "/Users/jimhitt/anaconda3/envs/2023_12_26_KaggleTitanic/lib/python3.11/site-packages/seaborn/_oldcore.py:1119: FutureWarning: use_inf_as_na option is deprecated and will be removed in a future version. Convert inf values to NaN before operating instead.\n",
      "  with pd.option_context('mode.use_inf_as_na', True):\n",
      "/var/folders/_7/jc101n2d4n79l6kv7vkhr89r0000gn/T/ipykernel_56408/475465569.py:6: UserWarning: \n",
      "\n",
      "`distplot` is a deprecated function and will be removed in seaborn v0.14.0.\n",
      "\n",
      "Please adapt your code to use either `displot` (a figure-level function with\n",
      "similar flexibility) or `histplot` (an axes-level function for histograms).\n",
      "\n",
      "For a guide to updating your code to use the new functions, please see\n",
      "https://gist.github.com/mwaskom/de44147ed2974457ad6372750bbe5751\n",
      "\n",
      "  sns.distplot(X[variable], ax=subplot)\n",
      "/Users/jimhitt/anaconda3/envs/2023_12_26_KaggleTitanic/lib/python3.11/site-packages/seaborn/_oldcore.py:1119: FutureWarning: use_inf_as_na option is deprecated and will be removed in a future version. Convert inf values to NaN before operating instead.\n",
      "  with pd.option_context('mode.use_inf_as_na', True):\n",
      "/var/folders/_7/jc101n2d4n79l6kv7vkhr89r0000gn/T/ipykernel_56408/475465569.py:6: UserWarning: \n",
      "\n",
      "`distplot` is a deprecated function and will be removed in seaborn v0.14.0.\n",
      "\n",
      "Please adapt your code to use either `displot` (a figure-level function with\n",
      "similar flexibility) or `histplot` (an axes-level function for histograms).\n",
      "\n",
      "For a guide to updating your code to use the new functions, please see\n",
      "https://gist.github.com/mwaskom/de44147ed2974457ad6372750bbe5751\n",
      "\n",
      "  sns.distplot(X[variable], ax=subplot)\n",
      "/Users/jimhitt/anaconda3/envs/2023_12_26_KaggleTitanic/lib/python3.11/site-packages/seaborn/_oldcore.py:1119: FutureWarning: use_inf_as_na option is deprecated and will be removed in a future version. Convert inf values to NaN before operating instead.\n",
      "  with pd.option_context('mode.use_inf_as_na', True):\n",
      "/var/folders/_7/jc101n2d4n79l6kv7vkhr89r0000gn/T/ipykernel_56408/475465569.py:6: UserWarning: \n",
      "\n",
      "`distplot` is a deprecated function and will be removed in seaborn v0.14.0.\n",
      "\n",
      "Please adapt your code to use either `displot` (a figure-level function with\n",
      "similar flexibility) or `histplot` (an axes-level function for histograms).\n",
      "\n",
      "For a guide to updating your code to use the new functions, please see\n",
      "https://gist.github.com/mwaskom/de44147ed2974457ad6372750bbe5751\n",
      "\n",
      "  sns.distplot(X[variable], ax=subplot)\n",
      "/Users/jimhitt/anaconda3/envs/2023_12_26_KaggleTitanic/lib/python3.11/site-packages/seaborn/_oldcore.py:1119: FutureWarning: use_inf_as_na option is deprecated and will be removed in a future version. Convert inf values to NaN before operating instead.\n",
      "  with pd.option_context('mode.use_inf_as_na', True):\n",
      "/var/folders/_7/jc101n2d4n79l6kv7vkhr89r0000gn/T/ipykernel_56408/475465569.py:6: UserWarning: \n",
      "\n",
      "`distplot` is a deprecated function and will be removed in seaborn v0.14.0.\n",
      "\n",
      "Please adapt your code to use either `displot` (a figure-level function with\n",
      "similar flexibility) or `histplot` (an axes-level function for histograms).\n",
      "\n",
      "For a guide to updating your code to use the new functions, please see\n",
      "https://gist.github.com/mwaskom/de44147ed2974457ad6372750bbe5751\n",
      "\n",
      "  sns.distplot(X[variable], ax=subplot)\n",
      "/Users/jimhitt/anaconda3/envs/2023_12_26_KaggleTitanic/lib/python3.11/site-packages/seaborn/_oldcore.py:1119: FutureWarning: use_inf_as_na option is deprecated and will be removed in a future version. Convert inf values to NaN before operating instead.\n",
      "  with pd.option_context('mode.use_inf_as_na', True):\n",
      "/var/folders/_7/jc101n2d4n79l6kv7vkhr89r0000gn/T/ipykernel_56408/475465569.py:6: UserWarning: \n",
      "\n",
      "`distplot` is a deprecated function and will be removed in seaborn v0.14.0.\n",
      "\n",
      "Please adapt your code to use either `displot` (a figure-level function with\n",
      "similar flexibility) or `histplot` (an axes-level function for histograms).\n",
      "\n",
      "For a guide to updating your code to use the new functions, please see\n",
      "https://gist.github.com/mwaskom/de44147ed2974457ad6372750bbe5751\n",
      "\n",
      "  sns.distplot(X[variable], ax=subplot)\n",
      "/Users/jimhitt/anaconda3/envs/2023_12_26_KaggleTitanic/lib/python3.11/site-packages/seaborn/_oldcore.py:1119: FutureWarning: use_inf_as_na option is deprecated and will be removed in a future version. Convert inf values to NaN before operating instead.\n",
      "  with pd.option_context('mode.use_inf_as_na', True):\n"
     ]
    },
    {
     "data": {
      "image/png": "[encoded data removed]",
      "text/plain": [
       "<Figure size 1500x1000 with 6 Axes>"
      ]
     },
     "metadata": {},
     "output_type": "display_data"
    }
   ],
   "source": [
    "# Plot histograms of the numeric columns in X as a 3 x 2 grid\n",
    "fig, ax = plt.subplots(3, 2, figsize=(15, 10))\n",
    "\n",
    "\n",
    "for variable, subplot in zip(numerical_columns, ax.flatten()):\n",
    "    sns.distplot(X[variable], ax=subplot)\n",
    "\n"
   ]
  },
  {
   "cell_type": "markdown",
   "metadata": {},
   "source": [
    "### There are some issues with outliers in all columns but age.\n",
    "We can train the model with the outliers and look at capping outliers or creating an outlier column later"
   ]
  },
  {
   "cell_type": "markdown",
   "metadata": {},
   "source": [
    "*The imputation has fixed the missing values.*\n",
    "\n",
    "### Next, we will start over and create a pipeline:\n",
    "- Train_test_split\n",
    "- Do other stuff   \n"
   ]
  },
  {
   "cell_type": "code",
   "execution_count": 9,
   "metadata": {},
   "outputs": [
    {
     "data": {
      "text/html": [
       "<div>\n",
       "<style scoped>\n",
       "    .dataframe tbody tr th:only-of-type {\n",
       "        vertical-align: middle;\n",
       "    }\n",
       "\n",
       "    .dataframe tbody tr th {\n",
       "        vertical-align: top;\n",
       "    }\n",
       "\n",
       "    .dataframe thead th {\n",
       "        text-align: right;\n",
       "    }\n",
       "</style>\n",
       "<table border=\"1\" class=\"dataframe\">\n",
       "  <thead>\n",
       "    <tr style=\"text-align: right;\">\n",
       "      <th></th>\n",
       "      <th>HomePlanet</th>\n",
       "      <th>CryoSleep</th>\n",
       "      <th>Destination</th>\n",
       "      <th>Age</th>\n",
       "      <th>VIP</th>\n",
       "      <th>RoomService</th>\n",
       "      <th>FoodCourt</th>\n",
       "      <th>ShoppingMall</th>\n",
       "      <th>Spa</th>\n",
       "      <th>VRDeck</th>\n",
       "      <th>Cabin_Deck</th>\n",
       "      <th>Cabin_Number</th>\n",
       "      <th>Cabind_Side</th>\n",
       "    </tr>\n",
       "  </thead>\n",
       "  <tbody>\n",
       "    <tr>\n",
       "      <th>2333</th>\n",
       "      <td>Earth</td>\n",
       "      <td>False</td>\n",
       "      <td>TRAPPIST-1e</td>\n",
       "      <td>28.0</td>\n",
       "      <td>False</td>\n",
       "      <td>0.0</td>\n",
       "      <td>55.0</td>\n",
       "      <td>0.0</td>\n",
       "      <td>656.0</td>\n",
       "      <td>0.0</td>\n",
       "      <td>NaN</td>\n",
       "      <td>NaN</td>\n",
       "      <td>NaN</td>\n",
       "    </tr>\n",
       "    <tr>\n",
       "      <th>2589</th>\n",
       "      <td>Earth</td>\n",
       "      <td>False</td>\n",
       "      <td>TRAPPIST-1e</td>\n",
       "      <td>17.0</td>\n",
       "      <td>False</td>\n",
       "      <td>0.0</td>\n",
       "      <td>1195.0</td>\n",
       "      <td>31.0</td>\n",
       "      <td>0.0</td>\n",
       "      <td>0.0</td>\n",
       "      <td>F</td>\n",
       "      <td>575.0</td>\n",
       "      <td>P</td>\n",
       "    </tr>\n",
       "    <tr>\n",
       "      <th>8302</th>\n",
       "      <td>Europa</td>\n",
       "      <td>True</td>\n",
       "      <td>55 Cancri e</td>\n",
       "      <td>28.0</td>\n",
       "      <td>False</td>\n",
       "      <td>0.0</td>\n",
       "      <td>0.0</td>\n",
       "      <td>0.0</td>\n",
       "      <td>0.0</td>\n",
       "      <td>0.0</td>\n",
       "      <td>C</td>\n",
       "      <td>329.0</td>\n",
       "      <td>S</td>\n",
       "    </tr>\n",
       "    <tr>\n",
       "      <th>8177</th>\n",
       "      <td>Mars</td>\n",
       "      <td>False</td>\n",
       "      <td>TRAPPIST-1e</td>\n",
       "      <td>20.0</td>\n",
       "      <td>False</td>\n",
       "      <td>NaN</td>\n",
       "      <td>2.0</td>\n",
       "      <td>289.0</td>\n",
       "      <td>976.0</td>\n",
       "      <td>0.0</td>\n",
       "      <td>F</td>\n",
       "      <td>1800.0</td>\n",
       "      <td>P</td>\n",
       "    </tr>\n",
       "    <tr>\n",
       "      <th>500</th>\n",
       "      <td>Europa</td>\n",
       "      <td>True</td>\n",
       "      <td>55 Cancri e</td>\n",
       "      <td>36.0</td>\n",
       "      <td>False</td>\n",
       "      <td>0.0</td>\n",
       "      <td>0.0</td>\n",
       "      <td>0.0</td>\n",
       "      <td>0.0</td>\n",
       "      <td>0.0</td>\n",
       "      <td>C</td>\n",
       "      <td>18.0</td>\n",
       "      <td>P</td>\n",
       "    </tr>\n",
       "  </tbody>\n",
       "</table>\n",
       "</div>"
      ],
      "text/plain": [
       "     HomePlanet CryoSleep  Destination   Age    VIP  RoomService  FoodCourt  \\\n",
       "2333      Earth     False  TRAPPIST-1e  28.0  False          0.0       55.0   \n",
       "2589      Earth     False  TRAPPIST-1e  17.0  False          0.0     1195.0   \n",
       "8302     Europa      True  55 Cancri e  28.0  False          0.0        0.0   \n",
       "8177       Mars     False  TRAPPIST-1e  20.0  False          NaN        2.0   \n",
       "500      Europa      True  55 Cancri e  36.0  False          0.0        0.0   \n",
       "\n",
       "      ShoppingMall    Spa  VRDeck Cabin_Deck  Cabin_Number Cabind_Side  \n",
       "2333           0.0  656.0     0.0        NaN           NaN         NaN  \n",
       "2589          31.0    0.0     0.0          F         575.0           P  \n",
       "8302           0.0    0.0     0.0          C         329.0           S  \n",
       "8177         289.0  976.0     0.0          F        1800.0           P  \n",
       "500            0.0    0.0     0.0          C          18.0           P  "
      ]
     },
     "execution_count": 9,
     "metadata": {},
     "output_type": "execute_result"
    }
   ],
   "source": [
    "from sklearn.model_selection import train_test_split\n",
    "\n",
    "y = df['Transported']\n",
    "\n",
    "#copy X\n",
    "X = df.copy(deep=True)\n",
    "# split Cabin into Deck, Number and Side\n",
    "X[['Cabin_Deck', 'Cabin_Number', 'Cabind_Side']] = X['Cabin'].str.split('/', expand=True)\n",
    "# cast Cabin_number as int\n",
    "X['Cabin_Number'] = X['Cabin_Number'].astype('float64')\n",
    "# drop Cabin, PassengerId and Name\n",
    "X.drop(['Cabin', 'PassengerId', 'Name', 'Transported'], axis=1, inplace=True)\n",
    "\n",
    "\n",
    "X_train, X_val, y_train, y_val = train_test_split(X, y, test_size=0.2, random_state=42)\n",
    "\n",
    "X_train.head()\n"
   ]
  },
  {
   "cell_type": "markdown",
   "metadata": {},
   "source": [
    "### Next, will work on creating the pipeline"
   ]
  },
  {
   "cell_type": "code",
   "execution_count": 10,
   "metadata": {},
   "outputs": [
    {
     "name": "stdout",
     "output_type": "stream",
     "text": [
      "Training data shape: (6954, 27)\n",
      "Validation data shape: (1739, 27)\n"
     ]
    }
   ],
   "source": [
    "from sklearn.compose import ColumnTransformer\n",
    "from sklearn.pipeline import Pipeline\n",
    "from sklearn.impute import SimpleImputer\n",
    "from sklearn.preprocessing import OneHotEncoder\n",
    "\n",
    "# generate numerical columns and categorical column lists from X_train datatypes   \n",
    "numerical_columns = X_train.select_dtypes(include=['float64', 'int64', 'bool']).columns\n",
    "categorical_columns = X_train.select_dtypes(include=['object']).columns\n",
    "\n",
    "# create inputers for numerical and categorical data\n",
    "numerical_inputer = SimpleImputer(strategy='median')\n",
    "categorical_inputer = SimpleImputer(strategy='most_frequent')\n",
    "\n",
    "# create one hot encoder for categorical data\n",
    "one_hot_encoder = OneHotEncoder(handle_unknown='ignore')\n",
    "\n",
    "# create column transformer for numerical and categorical data\n",
    "preprocessor = ColumnTransformer(\n",
    "    transformers=[\n",
    "            ('num', numerical_inputer, numerical_columns),\n",
    "            ('cat', Pipeline(steps = [('imputer', categorical_inputer),\n",
    "                                      ('onehot', one_hot_encoder)]), categorical_columns)\n",
    "])\n",
    "\n",
    "# assemble the pipeline\n",
    "preprocessing_pipeline = Pipeline(steps=[('preprocessor', preprocessor)])\n",
    "\n",
    "# apply the pipeline to the training data\n",
    "X_train_preprocessed = preprocessing_pipeline.fit_transform(X_train)\n",
    "# apply to validation data\n",
    "X_val_preprocessed = preprocessing_pipeline.transform(X_val)\n",
    "\n",
    "# print the shape of the training and validation data\n",
    "print(\"Training data shape:\", X_train_preprocessed.shape)\n",
    "print(\"Validation data shape:\", X_val_preprocessed.shape)\n"
   ]
  },
  {
   "cell_type": "code",
   "execution_count": 13,
   "metadata": {},
   "outputs": [
    {
     "name": "stdout",
     "output_type": "stream",
     "text": [
      "     Age  RoomService  FoodCourt  ShoppingMall     Spa  VRDeck  Cabin_Number  \\\n",
      "0   28.0          0.0       55.0           0.0   656.0     0.0         435.0   \n",
      "1   17.0          0.0     1195.0          31.0     0.0     0.0         575.0   \n",
      "2   28.0          0.0        0.0           0.0     0.0     0.0         329.0   \n",
      "3   20.0          0.0        2.0         289.0   976.0     0.0        1800.0   \n",
      "4   36.0          0.0        0.0           0.0     0.0     0.0          18.0   \n",
      "5   37.0       1000.0        0.0          80.0    40.0     0.0        1601.0   \n",
      "6   25.0          0.0        0.0           0.0     0.0     0.0          86.0   \n",
      "7   32.0          0.0        0.0           0.0     0.0     0.0        1122.0   \n",
      "8   32.0          0.0        0.0           0.0     0.0     0.0         261.0   \n",
      "9   21.0        644.0        0.0           0.0     0.0     2.0        1561.0   \n",
      "10  40.0          0.0       11.0           0.0  2205.0  1295.0         105.0   \n",
      "11  15.0          0.0      610.0         267.0     0.0     0.0        1469.0   \n",
      "12  31.0        915.0        0.0        1313.0   370.0     0.0        1278.0   \n",
      "13  41.0        396.0        0.0         653.0     0.0     0.0         529.0   \n",
      "14  30.0        531.0      807.0          35.0   200.0     0.0         893.0   \n",
      "15  32.0          0.0       58.0           0.0     0.0   642.0         330.0   \n",
      "16  38.0         66.0        0.0         991.0     0.0     0.0         113.0   \n",
      "17  27.0          0.0        0.0           0.0     0.0     0.0         376.0   \n",
      "18   4.0          0.0        0.0           0.0     0.0     0.0        1417.0   \n",
      "19  20.0          0.0       52.0           0.0   110.0   614.0        1545.0   \n",
      "\n",
      "    HomePlanet_Earth  HomePlanet_Europa  HomePlanet_Mars  ...  Cabin_Deck_A  \\\n",
      "0                1.0                0.0              0.0  ...           0.0   \n",
      "1                1.0                0.0              0.0  ...           0.0   \n",
      "2                0.0                1.0              0.0  ...           0.0   \n",
      "3                0.0                0.0              1.0  ...           0.0   \n",
      "4                0.0                1.0              0.0  ...           0.0   \n",
      "5                0.0                0.0              1.0  ...           0.0   \n",
      "6                0.0                0.0              1.0  ...           0.0   \n",
      "7                1.0                0.0              0.0  ...           0.0   \n",
      "8                0.0                1.0              0.0  ...           0.0   \n",
      "9                1.0                0.0              0.0  ...           0.0   \n",
      "10               0.0                1.0              0.0  ...           0.0   \n",
      "11               1.0                0.0              0.0  ...           0.0   \n",
      "12               0.0                0.0              1.0  ...           0.0   \n",
      "13               0.0                0.0              1.0  ...           0.0   \n",
      "14               0.0                0.0              1.0  ...           0.0   \n",
      "15               1.0                0.0              0.0  ...           0.0   \n",
      "16               0.0                0.0              1.0  ...           0.0   \n",
      "17               1.0                0.0              0.0  ...           0.0   \n",
      "18               1.0                0.0              0.0  ...           0.0   \n",
      "19               1.0                0.0              0.0  ...           0.0   \n",
      "\n",
      "    Cabin_Deck_B  Cabin_Deck_C  Cabin_Deck_D  Cabin_Deck_E  Cabin_Deck_F  \\\n",
      "0            0.0           0.0           0.0           0.0           1.0   \n",
      "1            0.0           0.0           0.0           0.0           1.0   \n",
      "2            0.0           1.0           0.0           0.0           0.0   \n",
      "3            0.0           0.0           0.0           0.0           1.0   \n",
      "4            0.0           1.0           0.0           0.0           0.0   \n",
      "5            0.0           0.0           0.0           0.0           1.0   \n",
      "6            0.0           0.0           0.0           0.0           1.0   \n",
      "7            0.0           0.0           0.0           0.0           0.0   \n",
      "8            1.0           0.0           0.0           0.0           0.0   \n",
      "9            0.0           0.0           0.0           0.0           1.0   \n",
      "10           0.0           1.0           0.0           0.0           0.0   \n",
      "11           0.0           0.0           0.0           0.0           1.0   \n",
      "12           0.0           0.0           0.0           0.0           1.0   \n",
      "13           0.0           0.0           0.0           1.0           0.0   \n",
      "14           0.0           0.0           0.0           0.0           1.0   \n",
      "15           0.0           0.0           0.0           0.0           0.0   \n",
      "16           0.0           0.0           1.0           0.0           0.0   \n",
      "17           0.0           0.0           0.0           0.0           0.0   \n",
      "18           0.0           0.0           0.0           0.0           0.0   \n",
      "19           0.0           0.0           0.0           0.0           1.0   \n",
      "\n",
      "    Cabin_Deck_G  Cabin_Deck_T  Cabind_Side_P  Cabind_Side_S  \n",
      "0            0.0           0.0            0.0            1.0  \n",
      "1            0.0           0.0            1.0            0.0  \n",
      "2            0.0           0.0            0.0            1.0  \n",
      "3            0.0           0.0            1.0            0.0  \n",
      "4            0.0           0.0            1.0            0.0  \n",
      "5            0.0           0.0            1.0            0.0  \n",
      "6            0.0           0.0            0.0            1.0  \n",
      "7            1.0           0.0            1.0            0.0  \n",
      "8            0.0           0.0            1.0            0.0  \n",
      "9            0.0           0.0            0.0            1.0  \n",
      "10           0.0           0.0            0.0            1.0  \n",
      "11           0.0           0.0            1.0            0.0  \n",
      "12           0.0           0.0            1.0            0.0  \n",
      "13           0.0           0.0            1.0            0.0  \n",
      "14           0.0           0.0            0.0            1.0  \n",
      "15           1.0           0.0            1.0            0.0  \n",
      "16           0.0           0.0            1.0            0.0  \n",
      "17           1.0           0.0            1.0            0.0  \n",
      "18           1.0           0.0            0.0            1.0  \n",
      "19           0.0           0.0            0.0            1.0  \n",
      "\n",
      "[20 rows x 27 columns]\n",
      "     Age  RoomService  FoodCourt  ShoppingMall     Spa  VRDeck  Cabin_Number  \\\n",
      "0   19.0        417.0      349.0         634.0     3.0  1057.0          63.0   \n",
      "1   18.0          4.0      904.0           0.0     0.0     1.0         460.0   \n",
      "2   41.0          0.0        0.0           0.0     0.0     0.0        1449.0   \n",
      "3   35.0          0.0      338.0         436.0     0.0     0.0         291.0   \n",
      "4   43.0          0.0        0.0           0.0     0.0     0.0         288.0   \n",
      "5   18.0        131.0        0.0         980.0     1.0     0.0         770.0   \n",
      "6   20.0          2.0        0.0           7.0     2.0   547.0         749.0   \n",
      "7   24.0          1.0      467.0           4.0     0.0   341.0         571.0   \n",
      "8   45.0          0.0        0.0           0.0     0.0     0.0         179.0   \n",
      "9    8.0          0.0        0.0           0.0     0.0     0.0         195.0   \n",
      "10  45.0          0.0     1389.0           0.0  2987.0     0.0          18.0   \n",
      "11  17.0          5.0      756.0           0.0     0.0     0.0         547.0   \n",
      "12  21.0          0.0        0.0         908.0    49.0     0.0          95.0   \n",
      "13  17.0         36.0        0.0        1013.0     0.0     0.0         106.0   \n",
      "14  34.0          0.0      160.0           0.0   611.0    44.0         838.0   \n",
      "15   0.0          0.0        0.0           0.0     0.0     0.0        1055.0   \n",
      "16  45.0          0.0        0.0           0.0     0.0     0.0         105.0   \n",
      "17  28.0       1789.0       16.0           3.0    10.0     1.0        1871.0   \n",
      "18  26.0          0.0    11598.0           0.0     3.0   386.0         269.0   \n",
      "19  28.0          0.0        0.0         529.0   560.0    60.0         272.0   \n",
      "\n",
      "    HomePlanet_Earth  HomePlanet_Europa  HomePlanet_Mars  ...  Cabin_Deck_A  \\\n",
      "0                0.0                0.0              1.0  ...           0.0   \n",
      "1                1.0                0.0              0.0  ...           0.0   \n",
      "2                1.0                0.0              0.0  ...           0.0   \n",
      "3                1.0                0.0              0.0  ...           0.0   \n",
      "4                0.0                1.0              0.0  ...           0.0   \n",
      "5                0.0                0.0              1.0  ...           0.0   \n",
      "6                1.0                0.0              0.0  ...           0.0   \n",
      "7                1.0                0.0              0.0  ...           0.0   \n",
      "8                1.0                0.0              0.0  ...           0.0   \n",
      "9                1.0                0.0              0.0  ...           0.0   \n",
      "10               0.0                1.0              0.0  ...           1.0   \n",
      "11               1.0                0.0              0.0  ...           0.0   \n",
      "12               1.0                0.0              0.0  ...           0.0   \n",
      "13               0.0                0.0              1.0  ...           0.0   \n",
      "14               1.0                0.0              0.0  ...           0.0   \n",
      "15               1.0                0.0              0.0  ...           0.0   \n",
      "16               1.0                0.0              0.0  ...           0.0   \n",
      "17               0.0                0.0              1.0  ...           0.0   \n",
      "18               0.0                1.0              0.0  ...           0.0   \n",
      "19               1.0                0.0              0.0  ...           0.0   \n",
      "\n",
      "    Cabin_Deck_B  Cabin_Deck_C  Cabin_Deck_D  Cabin_Deck_E  Cabin_Deck_F  \\\n",
      "0            0.0           0.0           0.0           0.0           1.0   \n",
      "1            0.0           0.0           0.0           0.0           0.0   \n",
      "2            0.0           0.0           0.0           0.0           0.0   \n",
      "3            0.0           0.0           0.0           0.0           0.0   \n",
      "4            0.0           0.0           1.0           0.0           0.0   \n",
      "5            0.0           0.0           0.0           0.0           1.0   \n",
      "6            0.0           0.0           0.0           0.0           1.0   \n",
      "7            0.0           0.0           0.0           0.0           0.0   \n",
      "8            0.0           0.0           0.0           0.0           0.0   \n",
      "9            0.0           0.0           0.0           0.0           0.0   \n",
      "10           0.0           0.0           0.0           0.0           0.0   \n",
      "11           0.0           0.0           0.0           0.0           1.0   \n",
      "12           0.0           0.0           0.0           0.0           0.0   \n",
      "13           0.0           0.0           0.0           1.0           0.0   \n",
      "14           0.0           0.0           0.0           0.0           0.0   \n",
      "15           0.0           0.0           0.0           0.0           0.0   \n",
      "16           0.0           0.0           0.0           0.0           0.0   \n",
      "17           0.0           0.0           0.0           0.0           1.0   \n",
      "18           1.0           0.0           0.0           0.0           0.0   \n",
      "19           0.0           0.0           0.0           0.0           1.0   \n",
      "\n",
      "    Cabin_Deck_G  Cabin_Deck_T  Cabind_Side_P  Cabind_Side_S  \n",
      "0            0.0           0.0            0.0            1.0  \n",
      "1            1.0           0.0            0.0            1.0  \n",
      "2            1.0           0.0            0.0            1.0  \n",
      "3            1.0           0.0            1.0            0.0  \n",
      "4            0.0           0.0            1.0            0.0  \n",
      "5            0.0           0.0            1.0            0.0  \n",
      "6            0.0           0.0            1.0            0.0  \n",
      "7            1.0           0.0            1.0            0.0  \n",
      "8            1.0           0.0            1.0            0.0  \n",
      "9            1.0           0.0            0.0            1.0  \n",
      "10           0.0           0.0            0.0            1.0  \n",
      "11           0.0           0.0            0.0            1.0  \n",
      "12           1.0           0.0            1.0            0.0  \n",
      "13           0.0           0.0            0.0            1.0  \n",
      "14           1.0           0.0            1.0            0.0  \n",
      "15           1.0           0.0            1.0            0.0  \n",
      "16           1.0           0.0            1.0            0.0  \n",
      "17           0.0           0.0            1.0            0.0  \n",
      "18           0.0           0.0            1.0            0.0  \n",
      "19           0.0           0.0            0.0            1.0  \n",
      "\n",
      "[20 rows x 27 columns]\n"
     ]
    }
   ],
   "source": [
    "if print_stats:\n",
    "    \n",
    "    # Retrieve feature names for categorical columns\n",
    "    cat_feature_names = preprocessing_pipeline.named_steps['preprocessor'].named_transformers_['cat']['onehot'].get_feature_names_out(categorical_columns)\n",
    "\n",
    "    # Combine with numerical column names\n",
    "    all_feature_names = np.concatenate([numerical_columns, cat_feature_names])\n",
    "\n",
    "    # Convert the preprocessed data to DataFrames\n",
    "    X_train_preprocessed_df = pd.DataFrame(X_train_preprocessed, columns=all_feature_names)\n",
    "    X_val_preprocessed_df = pd.DataFrame(X_val_preprocessed, columns=all_feature_names)\n",
    "\n",
    "    # take a look\n",
    "    print(X_train_preprocessed_df.head(20))\n",
    "    print(X_val_preprocessed_df.head(20))"
   ]
  },
  {
   "cell_type": "code",
   "execution_count": 14,
   "metadata": {},
   "outputs": [
    {
     "name": "stdout",
     "output_type": "stream",
     "text": [
      "XGBoost accuracy: 0.7993099482461185\n"
     ]
    }
   ],
   "source": [
    "# Trying XGBoost\n",
    "import xgboost as xgb\n",
    "\n",
    "# train the model\n",
    "xgb_model = xgb.XGBClassifier(objective=\"binary:logistic\", random_state=48)\n",
    "xgb_model.fit(X_train_preprocessed, y_train)\n",
    "\n",
    "# evaluate the model\n",
    "xgb_accuracy = xgb_model.score(X_val_preprocessed, y_val)\n",
    "print(\"XGBoost accuracy:\", xgb_accuracy)"
   ]
  },
  {
   "cell_type": "code",
   "execution_count": 16,
   "metadata": {},
   "outputs": [
    {
     "name": "stdout",
     "output_type": "stream",
     "text": [
      "Epoch 1/10\n",
      "218/218 [==============================] - 0s 481us/step - loss: 4.5858 - accuracy: 0.7153\n",
      "Epoch 2/10\n",
      "218/218 [==============================] - 0s 469us/step - loss: 3.3178 - accuracy: 0.7239\n",
      "Epoch 3/10\n",
      "218/218 [==============================] - 0s 476us/step - loss: 2.9654 - accuracy: 0.7341\n",
      "Epoch 4/10\n",
      "218/218 [==============================] - 0s 473us/step - loss: 2.0855 - accuracy: 0.7386\n",
      "Epoch 5/10\n",
      "218/218 [==============================] - 0s 525us/step - loss: 2.5419 - accuracy: 0.7304\n",
      "Epoch 6/10\n",
      "218/218 [==============================] - 0s 474us/step - loss: 1.4568 - accuracy: 0.7399\n",
      "Epoch 7/10\n",
      "218/218 [==============================] - 0s 471us/step - loss: 1.3323 - accuracy: 0.7462\n",
      "Epoch 8/10\n",
      "218/218 [==============================] - 0s 473us/step - loss: 1.2383 - accuracy: 0.7471\n",
      "Epoch 9/10\n",
      "218/218 [==============================] - 0s 476us/step - loss: 1.5461 - accuracy: 0.7435\n",
      "Epoch 10/10\n",
      "218/218 [==============================] - 0s 460us/step - loss: 1.3859 - accuracy: 0.7446\n",
      "55/55 [==============================] - 0s 333us/step - loss: 1.4331 - accuracy: 0.6975\n",
      "Neural Network Accuracy: 0.697527289390564\n"
     ]
    }
   ],
   "source": [
    "# Trying Deep Neural Network\n",
    "#from tensorflow.keras.models import Sequential\n",
    "#from tensorflow.keras.layers import Dense\n",
    "import tensorflow as tf\n",
    "from tensorflow.keras.models import Sequential\n",
    "from tensorflow.keras.layers import Dense\n",
    "\n",
    "# Create the neural network model\n",
    "nn_model = Sequential([\n",
    "    Dense(128, activation='relu', input_shape=(X_train_preprocessed.shape[1],)),\n",
    "    Dense(64, activation='relu'),\n",
    "    Dense(1, activation='sigmoid')\n",
    "])\n",
    "\n",
    "nn_model.compile(optimizer='adam', loss='binary_crossentropy', metrics=['accuracy'])\n",
    "\n",
    "# Train the model\n",
    "nn_model.fit(X_train_preprocessed, y_train, epochs=10, batch_size=32)\n",
    "\n",
    "# Evaluate the model\n",
    "nn_loss, nn_accuracy = nn_model.evaluate(X_val_preprocessed, y_val)\n",
    "print(\"Neural Network Accuracy:\", nn_accuracy)\n"
   ]
  },
  {
   "cell_type": "markdown",
   "metadata": {},
   "source": [
    "## Working on XGBoost Tuning"
   ]
  },
  {
   "cell_type": "code",
   "execution_count": 17,
   "metadata": {},
   "outputs": [
    {
     "name": "stdout",
     "output_type": "stream",
     "text": [
      "Fitting 5 folds for each of 120 candidates, totalling 600 fits\n",
      "{'learning_rate': 0.05, 'max_depth': 4, 'n_estimators': 400}\n"
     ]
    }
   ],
   "source": [
    "from sklearn.model_selection import GridSearchCV\n",
    "\n",
    "# define parmater grid\n",
    "param_grid = {\n",
    "    'max_depth': [2, 4, 6, 8],\n",
    "    'n_estimators': [50, 100, 200, 400, 800, 1000],\n",
    "    'learning_rate': [0.01, 0.05, 0.1, 0.2, 0.3]\n",
    "}\n",
    "\n",
    "# instantiate the grid search model\n",
    "grid_search = GridSearchCV(estimator=xgb_model, param_grid=param_grid, cv=5, n_jobs=-1, verbose=1, scoring='accuracy')\n",
    "\n",
    "# fit the model\n",
    "grid_search.fit(X_train_preprocessed, y_train)\n",
    "\n"
   ]
  },
  {
   "cell_type": "code",
   "execution_count": 23,
   "metadata": {},
   "outputs": [
    {
     "name": "stdout",
     "output_type": "stream",
     "text": [
      "{'learning_rate': 0.05, 'max_depth': 4, 'n_estimators': 400}\n",
      "0.8132001717102236\n"
     ]
    }
   ],
   "source": [
    "# print the best parameters\n",
    "print(grid_search.best_params_)\n",
    "\n",
    "# print the best score\n",
    "print(grid_search.best_score_)\n",
    "\n",
    "# calculate the model accuracy on the validation data\n",
    "grid_accuracy = grid_search.score(X_val_preprocessed, y_val)"
   ]
  },
  {
   "cell_type": "markdown",
   "metadata": {},
   "source": [
    "## Working on Deep Neural Network Tuning\n",
    "\n",
    "# This does not scale the data! There are outliers\n",
    "- Need to handle outliers\n",
    "- Need to scale data"
   ]
  },
  {
   "cell_type": "code",
   "execution_count": 22,
   "metadata": {},
   "outputs": [
    {
     "name": "stdout",
     "output_type": "stream",
     "text": [
      "Reloading Tuner from my_dir/intro_to_kt/tuner0.json\n",
      "{'units': 160, 'tuner/epochs': 4, 'tuner/initial_epoch': 2, 'tuner/bracket': 2, 'tuner/round': 1, 'tuner/trial_id': '0011'}\n",
      "55/55 [==============================] - 0s 353us/step - loss: 2.7744 - accuracy: 0.7809\n",
      "[2.7744455337524414, 0.7809085845947266]\n"
     ]
    }
   ],
   "source": [
    "import keras_tuner as kt\n",
    "def build_model(hp):\n",
    "    model = keras.Sequential()\n",
    "    model.add(Dense(units=hp.Int('units', min_value=32, max_value=512, step=32),\n",
    "                    activation='relu', input_shape=(X_train_preprocessed.shape[1],)))\n",
    "    model.add(Dense(1, activation='sigmoid'))\n",
    "    model.compile(optimizer='adam',\n",
    "                  loss='binary_crossentropy',\n",
    "                  metrics=['accuracy'])\n",
    "    return model\n",
    "\n",
    "tuner = kt.Hyperband(build_model,\n",
    "                     objective='val_accuracy',\n",
    "                     max_epochs=10,\n",
    "                     directory='my_dir',\n",
    "                     project_name='intro_to_kt')\n",
    "\n",
    "tuner.search(X_train_preprocessed, y_train, epochs=10, validation_data=(X_val_preprocessed, y_val))\n",
    "\n",
    "# Get the optimal hyperparameters\n",
    "best_hps = tuner.get_best_hyperparameters(num_trials=1)[0]\n",
    "print(best_hps.values)\n",
    "# print best accuracy\n",
    "print(tuner.get_best_models()[0].evaluate(X_val_preprocessed, y_val))"
   ]
  },
  {
   "cell_type": "code",
   "execution_count": null,
   "metadata": {},
   "outputs": [],
   "source": []
  }
 ],
 "metadata": {
  "kernelspec": {
   "display_name": "hitt_datasci_2023_09",
   "language": "python",
   "name": "python3"
  },
  "language_info": {
   "codemirror_mode": {
    "name": "ipython",
    "version": 3
   },
   "file_extension": ".py",
   "mimetype": "text/x-python",
   "name": "python",
   "nbconvert_exporter": "python",
   "pygments_lexer": "ipython3",
   "version": "3.11.5"
  }
 },
 "nbformat": 4,
 "nbformat_minor": 2
}
