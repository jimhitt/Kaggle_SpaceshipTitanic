{
 "cells": [
  {
   "cell_type": "markdown",
   "metadata": {},
   "source": [
    "### Starting with loading and splitting the data\n",
    "\n",
    "#### This version has worse performance.\n",
    "- Calculated TotalSpending column.\n",
    "- Then made categorical column binning the TotalSpending column\n",
    "\n",
    "#### Will create a v3 that uses the TotalSpending column without bins.\n",
    "\n",
    "#### Did not complete the analysis with processing of test data"
   ]
  },
  {
   "cell_type": "code",
   "execution_count": 10,
   "metadata": {},
   "outputs": [
    {
     "name": "stdout",
     "output_type": "stream",
     "text": [
      "     HomePlanet  CryoSleep    Destination   Age  VIP Cabin_Deck  Cabin_Number  \\\n",
      "2461        NaN          0    TRAPPIST-1e  24.0    0          G         430.0   \n",
      "250       Earth          0    55 Cancri e  50.0    0          F          61.0   \n",
      "1458      Earth          0    TRAPPIST-1e  47.0    0          F         298.0   \n",
      "2280       Mars          1    TRAPPIST-1e   7.0    0          F         508.0   \n",
      "7465       Mars          0    TRAPPIST-1e  21.0    0          F        1655.0   \n",
      "2628       Mars          0    55 Cancri e  43.0    0          F         538.0   \n",
      "122       Earth          1  PSO J318.5-22  22.0    0          G          22.0   \n",
      "572       Earth          1    TRAPPIST-1e  19.0    0          G          89.0   \n",
      "1645     Europa          0    TRAPPIST-1e  28.0    0          E         130.0   \n",
      "185       Earth          1  PSO J318.5-22  19.0    0          G          32.0   \n",
      "\n",
      "     Cabin_Side TotalSpendingBin  \n",
      "2461          P           medium  \n",
      "250           P             high  \n",
      "1458          S           medium  \n",
      "2280          P             zero  \n",
      "7465          P             high  \n",
      "2628          S             high  \n",
      "122           S             zero  \n",
      "572           S             zero  \n",
      "1645          S             high  \n",
      "185           P             zero  \n"
     ]
    },
    {
     "data": {
      "text/plain": [
       "HomePlanet            object\n",
       "CryoSleep              int64\n",
       "Destination           object\n",
       "Age                  float64\n",
       "VIP                    int64\n",
       "Cabin_Deck            object\n",
       "Cabin_Number         float64\n",
       "Cabin_Side            object\n",
       "TotalSpendingBin    category\n",
       "dtype: object"
      ]
     },
     "execution_count": 10,
     "metadata": {},
     "output_type": "execute_result"
    }
   ],
   "source": [
    "import numpy as np\n",
    "import matplotlib.pyplot as plt\n",
    "import pandas as pd\n",
    "import seaborn as sns\n",
    "from sklearn.model_selection import train_test_split\n",
    "\n",
    "# load data from data/train.csv into a pandas dataframe\n",
    "df = pd.read_csv('data/train.csv')\n",
    "\n",
    "y = df['Transported'].astype('int64')\n",
    "\n",
    "#copy X\n",
    "X = df.copy(deep=True)\n",
    "# split Cabin into Deck, Number and Side\n",
    "X[['Cabin_Deck', 'Cabin_Number', 'Cabin_Side']] = X['Cabin'].str.split('/', expand=True)\n",
    "# cast Cabin_number as int\n",
    "X['Cabin_Number'] = X['Cabin_Number'].astype('float64')\n",
    "# drop Cabin, PassengerId and Name\n",
    "X.drop(['Cabin', 'PassengerId', 'Name', 'Transported'], axis=1, inplace=True)\n",
    "\n",
    "# convert CryoSleep to bool\n",
    "#X['CryoSleep'] = X['CryoSleep'].astype('bool')\n",
    "\n",
    "# convert VIP to bool\n",
    "#X['VIP'] = X['VIP'].astype('bool')\n",
    "\n",
    "# identify columns with bool data type\n",
    "bool_cols = [col for col in X.columns if X[col].dtype == 'bool']\n",
    "# set bool columns to int\n",
    "X[bool_cols] = X[bool_cols].astype('int64')\n",
    "\n",
    "# create TotalSpending column\n",
    "onboard_spending = ['FoodCourt', 'ShoppingMall', 'Spa', 'VRDeck', 'RoomService']\n",
    "X['TotalSpending'] = X[onboard_spending].sum(axis=1, skipna=True)\n",
    "\n",
    "# create categorical column for TotalSpending\n",
    "X['TotalSpendingBin'] = pd.cut(X['TotalSpending'], \n",
    "                                         bins=[0, 1, 500, 1000, np.inf],\n",
    "                                         labels=['zero', 'low', 'medium', 'high'],\n",
    "                                         right=False)\n",
    "\n",
    "# drop numeric columns for spending\n",
    "X.drop(onboard_spending, axis=1, inplace=True)\n",
    "X.drop(['TotalSpending'], axis=1, inplace=True)\n",
    "\n",
    "\n",
    "X_train, X_val, y_train, y_val = train_test_split(X, y, test_size=0.15, random_state=48)\n",
    "print(X_train.head(10))\n",
    "# print data types in X_train\n",
    "X_train.dtypes"
   ]
  },
  {
   "cell_type": "markdown",
   "metadata": {},
   "source": [
    "### Create preprocessing pipeline"
   ]
  },
  {
   "cell_type": "code",
   "execution_count": 11,
   "metadata": {},
   "outputs": [
    {
     "name": "stdout",
     "output_type": "stream",
     "text": [
      "Training data shape: (7389, 20)\n",
      "Validation data shape: (1304, 20)\n"
     ]
    }
   ],
   "source": [
    "from sklearn.compose import ColumnTransformer\n",
    "from sklearn.pipeline import Pipeline\n",
    "from sklearn.impute import SimpleImputer\n",
    "from sklearn.preprocessing import OneHotEncoder, RobustScaler\n",
    "\n",
    "# generate numerical columns and categorical column lists from X_train datatypes   \n",
    "numerical_columns = X_train.select_dtypes(include=['float64', 'int64', 'bool']).columns\n",
    "categorical_columns = X_train.select_dtypes(include=['object']).columns\n",
    "\n",
    "# create inputers for numerical and categorical data\n",
    "numerical_inputer = SimpleImputer(strategy='median')\n",
    "categorical_inputer = SimpleImputer(strategy='most_frequent')\n",
    "robust_scaler = RobustScaler()\n",
    "\n",
    "# not sure if this robust scaler is better\n",
    "#robust_scaler = RobustScaler(quantile_range=(10.0, 90.0), unit_variance=True)\n",
    "\n",
    "# create one hot encoder for categorical data\n",
    "one_hot_encoder = OneHotEncoder(handle_unknown='ignore')\n",
    "\n",
    "# create column transformer for numerical and categorical data\n",
    "preprocessor = ColumnTransformer(\n",
    "    transformers=[\n",
    "            ('num', Pipeline(steps = [('imputer', numerical_inputer),\n",
    "                                      ('scaler', robust_scaler)]), numerical_columns),\n",
    "            ('cat', Pipeline(steps = [('imputer', categorical_inputer),\n",
    "                                      ('onehot', one_hot_encoder)]), categorical_columns)\n",
    "])\n",
    "\n",
    "# assemble the pipeline\n",
    "preprocessing_pipeline = Pipeline(steps=[('preprocessor', preprocessor)])\n",
    "\n",
    "# apply the pipeline to the training data\n",
    "X_train_preprocessed = preprocessing_pipeline.fit_transform(X_train)\n",
    "# apply to validation data\n",
    "X_val_preprocessed = preprocessing_pipeline.transform(X_val)\n",
    "\n",
    "# print the shape of the training and validation data\n",
    "print(\"Training data shape:\", X_train_preprocessed.shape)\n",
    "print(\"Validation data shape:\", X_val_preprocessed.shape)"
   ]
  },
  {
   "cell_type": "code",
   "execution_count": 12,
   "metadata": {},
   "outputs": [
    {
     "name": "stdout",
     "output_type": "stream",
     "text": [
      "Epoch 1/10\n",
      "231/231 [==============================] - 0s 723us/step - loss: 0.5461 - accuracy: 0.7234\n",
      "Epoch 2/10\n",
      "231/231 [==============================] - 0s 779us/step - loss: 0.5193 - accuracy: 0.7384\n",
      "Epoch 3/10\n",
      "231/231 [==============================] - 0s 803us/step - loss: 0.5171 - accuracy: 0.7345\n",
      "Epoch 4/10\n",
      "231/231 [==============================] - 0s 903us/step - loss: 0.5121 - accuracy: 0.7404\n",
      "Epoch 5/10\n",
      "231/231 [==============================] - 0s 817us/step - loss: 0.5039 - accuracy: 0.7462\n",
      "Epoch 6/10\n",
      "231/231 [==============================] - 0s 789us/step - loss: 0.5021 - accuracy: 0.7477\n",
      "Epoch 7/10\n",
      "231/231 [==============================] - 0s 752us/step - loss: 0.4986 - accuracy: 0.7507\n",
      "Epoch 8/10\n",
      "231/231 [==============================] - 0s 735us/step - loss: 0.4961 - accuracy: 0.7514\n",
      "Epoch 9/10\n",
      "231/231 [==============================] - 0s 713us/step - loss: 0.4922 - accuracy: 0.7561\n",
      "Epoch 10/10\n",
      "231/231 [==============================] - 0s 717us/step - loss: 0.4913 - accuracy: 0.7572\n",
      "41/41 [==============================] - 0s 409us/step - loss: 0.5141 - accuracy: 0.7301\n",
      "Neural Network Accuracy: 0.7300613522529602\n"
     ]
    }
   ],
   "source": [
    "# Trying Deep Neural Network\n",
    "#from tensorflow.keras.models import Sequential\n",
    "#from tensorflow.keras.layers import Dense\n",
    "import tensorflow as tf\n",
    "from tensorflow.keras.models import Sequential\n",
    "from tensorflow.keras.layers import Dense\n",
    "\n",
    "# Create the neural network model\n",
    "nn_model = Sequential([\n",
    "    Dense(256, activation='relu', input_shape=(X_train_preprocessed.shape[1],)),\n",
    "    Dense(128, activation='relu'),\n",
    "    Dense(64, activation='relu'),\n",
    "    Dense(1, activation='sigmoid')\n",
    "])\n",
    "\n",
    "nn_model.compile(optimizer='adam', loss='binary_crossentropy', metrics=['accuracy'])\n",
    "\n",
    "# Train the model\n",
    "nn_model.fit(X_train_preprocessed, y_train, epochs=10, batch_size=32)\n",
    "\n",
    "# Evaluate the model\n",
    "nn_loss, nn_accuracy = nn_model.evaluate(X_val_preprocessed, y_val)\n",
    "print(\"Neural Network Accuracy:\", nn_accuracy)"
   ]
  },
  {
   "cell_type": "code",
   "execution_count": 13,
   "metadata": {},
   "outputs": [
    {
     "name": "stdout",
     "output_type": "stream",
     "text": [
      "Trial 30 Complete [00h 00m 02s]\n",
      "val_accuracy: 0.7277607321739197\n",
      "\n",
      "Best val_accuracy So Far: 0.737730085849762\n",
      "Total elapsed time: 00h 00m 36s\n",
      "{'units': 224, 'dropout': 0.25, 'tuner/epochs': 10, 'tuner/initial_epoch': 0, 'tuner/bracket': 0, 'tuner/round': 0}\n",
      "41/41 [==============================] - 0s 451us/step - loss: 0.5120 - accuracy: 0.7377\n",
      "[0.511960506439209, 0.737730085849762]\n"
     ]
    }
   ],
   "source": [
    "\n",
    "import keras_tuner as kt\n",
    "from tensorflow.keras.layers import Dense, Dropout\n",
    "from tensorflow.keras.regularizers import l2\n",
    "\n",
    "def build_model(hp):\n",
    "    model = Sequential()\n",
    "    model.add(Dense(units=hp.Int('units', min_value=32, max_value=512, step=32),\n",
    "                    activation='relu', input_shape=(X_train_preprocessed.shape[1],)))\n",
    "    model.add(Dropout(hp.Float('dropout', min_value=0.0, max_value=0.5, default=0.25, step=0.05)))\n",
    "    model.add(Dense(units=hp.Int('units', min_value=32, max_value=256, step=32),\n",
    "                    activation='relu',))\n",
    "    model.add(Dropout(hp.Float('dropout', min_value=0.0, max_value=0.5, default=0.25, step=0.05)))\n",
    "    model.add(Dense(1, activation='sigmoid'))\n",
    "    model.compile(optimizer='adam',\n",
    "                  loss='binary_crossentropy',\n",
    "                  metrics=['accuracy'])\n",
    "    return model\n",
    "\n",
    "tuner = kt.Hyperband(build_model,\n",
    "                     objective='val_accuracy',\n",
    "                     max_epochs=10,\n",
    "                     directory='my_dir/test_06',\n",
    "                     project_name='intro_to_kt')\n",
    "\n",
    "tuner.search(X_train_preprocessed, y_train, epochs=10, validation_data=(X_val_preprocessed, y_val))\n",
    "\n",
    "# Get the optimal hyperparameters\n",
    "best_hps = tuner.get_best_hyperparameters(num_trials=1)[0]\n",
    "print(best_hps.values)\n",
    "# print best accuracy\n",
    "print(tuner.get_best_models()[0].evaluate(X_val_preprocessed, y_val))"
   ]
  },
  {
   "cell_type": "code",
   "execution_count": 14,
   "metadata": {},
   "outputs": [
    {
     "name": "stdout",
     "output_type": "stream",
     "text": [
      "WARNING:tensorflow:Detecting that an object or model or tf.train.Checkpoint is being deleted with unrestored values. See the following logs for the specific values in question. To silence these warnings, use `status.expect_partial()`. See https://www.tensorflow.org/api_docs/python/tf/train/Checkpoint#restorefor details about the status object returned by the restore function.\n",
      "WARNING:tensorflow:Value in checkpoint could not be found in the restored object: (root).optimizer.iter\n",
      "WARNING:tensorflow:Value in checkpoint could not be found in the restored object: (root).optimizer.beta_1\n",
      "WARNING:tensorflow:Value in checkpoint could not be found in the restored object: (root).optimizer.beta_2\n",
      "WARNING:tensorflow:Value in checkpoint could not be found in the restored object: (root).optimizer.decay\n",
      "WARNING:tensorflow:Value in checkpoint could not be found in the restored object: (root).optimizer.learning_rate\n",
      "Model: \"sequential\"\n",
      "_________________________________________________________________\n",
      " Layer (type)                Output Shape              Param #   \n",
      "=================================================================\n",
      " dense (Dense)               (None, 224)               4704      \n",
      "                                                                 \n",
      " dropout (Dropout)           (None, 224)               0         \n",
      "                                                                 \n",
      " dense_1 (Dense)             (None, 224)               50400     \n",
      "                                                                 \n",
      " dropout_1 (Dropout)         (None, 224)               0         \n",
      "                                                                 \n",
      " dense_2 (Dense)             (None, 1)                 225       \n",
      "                                                                 \n",
      "=================================================================\n",
      "Total params: 55329 (216.13 KB)\n",
      "Trainable params: 55329 (216.13 KB)\n",
      "Non-trainable params: 0 (0.00 Byte)\n",
      "_________________________________________________________________\n"
     ]
    }
   ],
   "source": [
    "best_model = tuner.get_best_models(num_models=1)[0]\n",
    "best_model.summary()"
   ]
  },
  {
   "cell_type": "code",
   "execution_count": 40,
   "metadata": {},
   "outputs": [
    {
     "name": "stdout",
     "output_type": "stream",
     "text": [
      "134/134 [==============================] - 0s 372us/step\n",
      "  PassengerId  Transported\n",
      "0     0013_01        False\n",
      "1     0018_01        False\n",
      "2     0019_01         True\n",
      "3     0021_01         True\n",
      "4     0023_01        False\n"
     ]
    }
   ],
   "source": [
    "# load the test data\n",
    "df_test = pd.read_csv('data/test.csv')\n",
    "\n",
    "X_test = df_test.copy(deep=True)\n",
    "# split Cabin into Deck, Number and Side\n",
    "X_test[['Cabin_Deck', 'Cabin_Number', 'Cabind_Side']] = X_test['Cabin'].str.split('/', expand=True)\n",
    "# cast Cabin_number as int\n",
    "X_test['Cabin_Number'] = X_test['Cabin_Number'].astype('float64')\n",
    "\n",
    "# save passenger ids for submission\n",
    "passenger_ids = X_test['PassengerId']\n",
    "\n",
    "# drop Cabin, PassengerId and Name\n",
    "X_test.drop(['Cabin', 'PassengerId', 'Name'], axis=1, inplace=True)\n",
    "\n",
    "# identify columns with bool data type\n",
    "bool_cols = [col for col in X_test.columns if X_test[col].dtype == 'bool']\n",
    "# set bool columns to int\n",
    "X_test[bool_cols] = X_test[bool_cols].astype('int64')\n",
    "\n",
    "# apply the pipeline to the test data\n",
    "X_test_preprocessed = preprocessing_pipeline.transform(X_test)\n",
    "\n",
    "# use the best model to predict the test data\n",
    "y_test_pred = best_model.predict(X_test_preprocessed)\n",
    "\n",
    "# transform predictions into boolean values\n",
    "y_test_submit = (y_test_pred > 0.5).astype(bool)\n",
    "\n",
    "# create a dataframe with the passenger ids and predicted values\n",
    "df_submit = pd.DataFrame({'PassengerId': passenger_ids, 'Transported': y_test_submit.flatten()})\n",
    "# save the dataframe as a csv file\n",
    "df_submit.to_csv('data/submit_DNN_05.csv', index=False)\n",
    "print(df_submit.head())\n"
   ]
  },
  {
   "cell_type": "code",
   "execution_count": null,
   "metadata": {},
   "outputs": [],
   "source": []
  }
 ],
 "metadata": {
  "kernelspec": {
   "display_name": "2023_12_26_KaggleTitanic",
   "language": "python",
   "name": "python3"
  },
  "language_info": {
   "codemirror_mode": {
    "name": "ipython",
    "version": 3
   },
   "file_extension": ".py",
   "mimetype": "text/x-python",
   "name": "python",
   "nbconvert_exporter": "python",
   "pygments_lexer": "ipython3",
   "version": "3.11.5"
  }
 },
 "nbformat": 4,
 "nbformat_minor": 2
}
