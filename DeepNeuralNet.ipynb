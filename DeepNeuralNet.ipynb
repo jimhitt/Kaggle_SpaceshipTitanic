{
 "cells": [
  {
   "cell_type": "markdown",
   "metadata": {},
   "source": [
    "### Starting with loading and splitting the data"
   ]
  },
  {
   "cell_type": "code",
   "execution_count": 1,
   "metadata": {},
   "outputs": [],
   "source": [
    "import numpy as np\n",
    "import matplotlib.pyplot as plt\n",
    "import pandas as pd\n",
    "import seaborn as sns\n",
    "from sklearn.model_selection import train_test_split\n",
    "\n",
    "# load data from data/train.csv into a pandas dataframe\n",
    "df = pd.read_csv('data/train.csv')\n",
    "\n",
    "y = df['Transported']\n",
    "\n",
    "#copy X\n",
    "X = df.copy(deep=True)\n",
    "# split Cabin into Deck, Number and Side\n",
    "X[['Cabin_Deck', 'Cabin_Number', 'Cabind_Side']] = X['Cabin'].str.split('/', expand=True)\n",
    "# cast Cabin_number as int\n",
    "X['Cabin_Number'] = X['Cabin_Number'].astype('float64')\n",
    "# drop Cabin, PassengerId and Name\n",
    "X.drop(['Cabin', 'PassengerId', 'Name', 'Transported'], axis=1, inplace=True)\n",
    "\n",
    "# identify columns with bool data type\n",
    "bool_cols = [col for col in X.columns if X[col].dtype == 'bool']\n",
    "# set bool columns to int\n",
    "X[bool_cols] = X[bool_cols].astype('int64')\n",
    "\n",
    "\n",
    "\n",
    "X_train, X_val, y_train, y_val = train_test_split(X, y, test_size=0.15, random_state=48)"
   ]
  },
  {
   "cell_type": "markdown",
   "metadata": {},
   "source": [
    "### Create preprocessing pipeline"
   ]
  },
  {
   "cell_type": "code",
   "execution_count": 2,
   "metadata": {},
   "outputs": [
    {
     "name": "stdout",
     "output_type": "stream",
     "text": [
      "Training data shape: (7389, 27)\n",
      "Validation data shape: (1304, 27)\n"
     ]
    }
   ],
   "source": [
    "from sklearn.compose import ColumnTransformer\n",
    "from sklearn.pipeline import Pipeline\n",
    "from sklearn.impute import SimpleImputer\n",
    "from sklearn.preprocessing import OneHotEncoder, RobustScaler\n",
    "\n",
    "# generate numerical columns and categorical column lists from X_train datatypes   \n",
    "numerical_columns = X_train.select_dtypes(include=['float64', 'int64', 'bool']).columns\n",
    "categorical_columns = X_train.select_dtypes(include=['object']).columns\n",
    "\n",
    "# create inputers for numerical and categorical data\n",
    "numerical_inputer = SimpleImputer(strategy='median')\n",
    "categorical_inputer = SimpleImputer(strategy='most_frequent')\n",
    "robust_scaler = RobustScaler()\n",
    "\n",
    "# create one hot encoder for categorical data\n",
    "one_hot_encoder = OneHotEncoder(handle_unknown='ignore')\n",
    "\n",
    "# create column transformer for numerical and categorical data\n",
    "preprocessor = ColumnTransformer(\n",
    "    transformers=[\n",
    "            ('num', Pipeline(steps = [('imputer', numerical_inputer),\n",
    "                                      ('scaler', robust_scaler)]), numerical_columns),\n",
    "            ('cat', Pipeline(steps = [('imputer', categorical_inputer),\n",
    "                                      ('onehot', one_hot_encoder)]), categorical_columns)\n",
    "])\n",
    "\n",
    "# assemble the pipeline\n",
    "preprocessing_pipeline = Pipeline(steps=[('preprocessor', preprocessor)])\n",
    "\n",
    "# apply the pipeline to the training data\n",
    "X_train_preprocessed = preprocessing_pipeline.fit_transform(X_train)\n",
    "# apply to validation data\n",
    "X_val_preprocessed = preprocessing_pipeline.transform(X_val)\n",
    "\n",
    "# print the shape of the training and validation data\n",
    "print(\"Training data shape:\", X_train_preprocessed.shape)\n",
    "print(\"Validation data shape:\", X_val_preprocessed.shape)"
   ]
  },
  {
   "cell_type": "code",
   "execution_count": 4,
   "metadata": {},
   "outputs": [
    {
     "name": "stdout",
     "output_type": "stream",
     "text": [
      "Epoch 1/10\n",
      "231/231 [==============================] - 0s 702us/step - loss: 0.5010 - accuracy: 0.7753\n",
      "Epoch 2/10\n",
      "231/231 [==============================] - 0s 708us/step - loss: 0.4353 - accuracy: 0.7919\n",
      "Epoch 3/10\n",
      "231/231 [==============================] - 0s 734us/step - loss: 0.4193 - accuracy: 0.7948\n",
      "Epoch 4/10\n",
      "231/231 [==============================] - 0s 721us/step - loss: 0.4148 - accuracy: 0.8031\n",
      "Epoch 5/10\n",
      "231/231 [==============================] - 0s 726us/step - loss: 0.4075 - accuracy: 0.8036\n",
      "Epoch 6/10\n",
      "231/231 [==============================] - 0s 721us/step - loss: 0.4051 - accuracy: 0.8013\n",
      "Epoch 7/10\n",
      "231/231 [==============================] - 0s 720us/step - loss: 0.4030 - accuracy: 0.8032\n",
      "Epoch 8/10\n",
      "231/231 [==============================] - 0s 702us/step - loss: 0.4008 - accuracy: 0.8040\n",
      "Epoch 9/10\n",
      "231/231 [==============================] - 0s 705us/step - loss: 0.3974 - accuracy: 0.8030\n",
      "Epoch 10/10\n",
      "231/231 [==============================] - 0s 700us/step - loss: 0.3958 - accuracy: 0.8050\n",
      "41/41 [==============================] - 0s 420us/step - loss: 0.4047 - accuracy: 0.8052\n",
      "Neural Network Accuracy: 0.8052147030830383\n"
     ]
    }
   ],
   "source": [
    "# Trying Deep Neural Network\n",
    "#from tensorflow.keras.models import Sequential\n",
    "#from tensorflow.keras.layers import Dense\n",
    "import tensorflow as tf\n",
    "from tensorflow.keras.models import Sequential\n",
    "from tensorflow.keras.layers import Dense\n",
    "\n",
    "# Create the neural network model\n",
    "nn_model = Sequential([\n",
    "    Dense(256, activation='relu', input_shape=(X_train_preprocessed.shape[1],)),\n",
    "    Dense(128, activation='relu'),\n",
    "    Dense(64, activation='relu'),\n",
    "    Dense(1, activation='sigmoid')\n",
    "])\n",
    "\n",
    "nn_model.compile(optimizer='adam', loss='binary_crossentropy', metrics=['accuracy'])\n",
    "\n",
    "# Train the model\n",
    "nn_model.fit(X_train_preprocessed, y_train, epochs=10, batch_size=32)\n",
    "\n",
    "# Evaluate the model\n",
    "nn_loss, nn_accuracy = nn_model.evaluate(X_val_preprocessed, y_val)\n",
    "print(\"Neural Network Accuracy:\", nn_accuracy)"
   ]
  },
  {
   "cell_type": "code",
   "execution_count": 26,
   "metadata": {},
   "outputs": [
    {
     "name": "stdout",
     "output_type": "stream",
     "text": [
      "Trial 30 Complete [00h 00m 02s]\n",
      "val_accuracy: 0.8174846768379211\n",
      "\n",
      "Best val_accuracy So Far: 0.8190184235572815\n",
      "Total elapsed time: 00h 00m 38s\n",
      "{'units': 320, 'dropout': 0.30000000000000004, 'tuner/epochs': 2, 'tuner/initial_epoch': 0, 'tuner/bracket': 2, 'tuner/round': 0}\n",
      "41/41 [==============================] - 0s 491us/step - loss: 0.4105 - accuracy: 0.8190\n",
      "[0.41052091121673584, 0.8190184235572815]\n"
     ]
    }
   ],
   "source": [
    "\n",
    "import keras_tuner as kt\n",
    "from tensorflow.keras.layers import Dense, Dropout\n",
    "\n",
    "def build_model(hp):\n",
    "    model = Sequential()\n",
    "    model.add(Dense(units=hp.Int('units', min_value=32, max_value=512, step=32),\n",
    "                    activation='relu', input_shape=(X_train_preprocessed.shape[1],)))\n",
    "    model.add(Dropout(hp.Float('dropout', min_value=0.0, max_value=0.5, default=0.25, step=0.05)))\n",
    "    model.add(Dense(units=hp.Int('units', min_value=32, max_value=256, step=32)))\n",
    "    model.add(Dropout(hp.Float('dropout', min_value=0.0, max_value=0.5, default=0.25, step=0.05)))\n",
    "    model.add(Dense(1, activation='sigmoid'))\n",
    "    model.compile(optimizer='adam',\n",
    "                  loss='binary_crossentropy',\n",
    "                  metrics=['accuracy'])\n",
    "    return model\n",
    "\n",
    "tuner = kt.Hyperband(build_model,\n",
    "                     objective='val_accuracy',\n",
    "                     max_epochs=10,\n",
    "                     directory='my_dir/test_02',\n",
    "                     project_name='intro_to_kt')\n",
    "\n",
    "tuner.search(X_train_preprocessed, y_train, epochs=10, validation_data=(X_val_preprocessed, y_val))\n",
    "\n",
    "# Get the optimal hyperparameters\n",
    "best_hps = tuner.get_best_hyperparameters(num_trials=1)[0]\n",
    "print(best_hps.values)\n",
    "# print best accuracy\n",
    "print(tuner.get_best_models()[0].evaluate(X_val_preprocessed, y_val))"
   ]
  },
  {
   "cell_type": "code",
   "execution_count": 18,
   "metadata": {},
   "outputs": [
    {
     "name": "stdout",
     "output_type": "stream",
     "text": [
      "Model: \"sequential\"\n",
      "_________________________________________________________________\n",
      " Layer (type)                Output Shape              Param #   \n",
      "=================================================================\n",
      " dense (Dense)               (None, 480)               13440     \n",
      "                                                                 \n",
      " dense_1 (Dense)             (None, 480)               230880    \n",
      "                                                                 \n",
      " dense_2 (Dense)             (None, 1)                 481       \n",
      "                                                                 \n",
      "=================================================================\n",
      "Total params: 244801 (956.25 KB)\n",
      "Trainable params: 244801 (956.25 KB)\n",
      "Non-trainable params: 0 (0.00 Byte)\n",
      "_________________________________________________________________\n"
     ]
    }
   ],
   "source": [
    "best_model = tuner.get_best_models(num_models=1)[0]\n",
    "best_model.summary()"
   ]
  },
  {
   "cell_type": "code",
   "execution_count": 25,
   "metadata": {},
   "outputs": [
    {
     "name": "stdout",
     "output_type": "stream",
     "text": [
      "134/134 [==============================] - 0s 439us/step\n",
      "  PassengerId  Transported\n",
      "0     0013_01         True\n",
      "1     0018_01        False\n",
      "2     0019_01         True\n",
      "3     0021_01         True\n",
      "4     0023_01         True\n"
     ]
    }
   ],
   "source": [
    "# load the test data\n",
    "df_test = pd.read_csv('data/test.csv')\n",
    "\n",
    "X_test = df_test.copy(deep=True)\n",
    "# split Cabin into Deck, Number and Side\n",
    "X_test[['Cabin_Deck', 'Cabin_Number', 'Cabind_Side']] = X_test['Cabin'].str.split('/', expand=True)\n",
    "# cast Cabin_number as int\n",
    "X_test['Cabin_Number'] = X_test['Cabin_Number'].astype('float64')\n",
    "\n",
    "# save passenger ids for submission\n",
    "passenger_ids = X_test['PassengerId']\n",
    "\n",
    "# drop Cabin, PassengerId and Name\n",
    "X_test.drop(['Cabin', 'PassengerId', 'Name'], axis=1, inplace=True)\n",
    "\n",
    "# identify columns with bool data type\n",
    "bool_cols = [col for col in X_test.columns if X_test[col].dtype == 'bool']\n",
    "# set bool columns to int\n",
    "X_test[bool_cols] = X_test[bool_cols].astype('int64')\n",
    "\n",
    "# apply the pipeline to the test data\n",
    "X_test_preprocessed = preprocessing_pipeline.transform(X_test)\n",
    "\n",
    "# use the best model to predict the test data\n",
    "y_test_pred = best_model.predict(X_test_preprocessed)\n",
    "\n",
    "# transform predictions into boolean values\n",
    "y_test_submit = (y_test_pred > 0.5).astype(bool)\n",
    "\n",
    "# create a dataframe with the passenger ids and predicted values\n",
    "df_submit = pd.DataFrame({'PassengerId': passenger_ids, 'Transported': y_test_submit.flatten()})\n",
    "# save the dataframe as a csv file\n",
    "df_submit.to_csv('data/submit.csv', index=False)\n",
    "print(df_submit.head())\n"
   ]
  },
  {
   "cell_type": "code",
   "execution_count": null,
   "metadata": {},
   "outputs": [],
   "source": []
  }
 ],
 "metadata": {
  "kernelspec": {
   "display_name": "2023_12_26_KaggleTitanic",
   "language": "python",
   "name": "python3"
  },
  "language_info": {
   "codemirror_mode": {
    "name": "ipython",
    "version": 3
   },
   "file_extension": ".py",
   "mimetype": "text/x-python",
   "name": "python",
   "nbconvert_exporter": "python",
   "pygments_lexer": "ipython3",
   "version": "3.11.5"
  }
 },
 "nbformat": 4,
 "nbformat_minor": 2
}
