{
 "cells": [
  {
   "cell_type": "markdown",
   "metadata": {},
   "source": [
    "### Starting with loading and splitting the data\n",
    "\n",
    "#### This version is a bit improved (still worse than original).\n",
    "- Removed VRDeck from Total Spending\n",
    "- Left total spending as numeric column\n",
    "\n",
    "#### Did not complete the analysis with processing of test data"
   ]
  },
  {
   "cell_type": "code",
   "execution_count": 19,
   "metadata": {},
   "outputs": [
    {
     "name": "stdout",
     "output_type": "stream",
     "text": [
      "     HomePlanet CryoSleep    Destination   Age    VIP Cabin_Deck  \\\n",
      "5835      Earth     False    TRAPPIST-1e  18.0  False          G   \n",
      "6189      Earth     False    TRAPPIST-1e  21.0  False          F   \n",
      "3514      Earth     False  PSO J318.5-22  23.0  False          F   \n",
      "514       Earth     False    TRAPPIST-1e  42.0  False          G   \n",
      "4738      Earth     False    55 Cancri e  21.0  False          F   \n",
      "5739     Europa     False    55 Cancri e  32.0  False          A   \n",
      "6989     Europa     False    55 Cancri e  31.0  False          A   \n",
      "559        Mars     False    TRAPPIST-1e  23.0  False          D   \n",
      "6672       Mars     False    TRAPPIST-1e   NaN  False          F   \n",
      "5731      Earth     False    TRAPPIST-1e  33.0  False          G   \n",
      "\n",
      "      Cabin_Number Cabin_Side  spending1  spending2  \n",
      "5835        1000.0          P        0.0      809.0  \n",
      "6189        1356.0          P      717.0        0.0  \n",
      "3514         711.0          S      596.0      661.0  \n",
      "514           80.0          S      266.0      583.0  \n",
      "4738        1030.0          P        0.0      639.0  \n",
      "5739          72.0          S     4176.0      189.0  \n",
      "6989          90.0          S     2954.0      926.0  \n",
      "559           22.0          P     1092.0     2648.0  \n",
      "6672        1341.0          S       30.0     1259.0  \n",
      "5731         987.0          S      417.0      391.0  \n"
     ]
    },
    {
     "data": {
      "text/plain": [
       "HomePlanet       object\n",
       "CryoSleep        object\n",
       "Destination      object\n",
       "Age             float64\n",
       "VIP              object\n",
       "Cabin_Deck       object\n",
       "Cabin_Number    float64\n",
       "Cabin_Side       object\n",
       "spending1       float64\n",
       "spending2       float64\n",
       "dtype: object"
      ]
     },
     "execution_count": 19,
     "metadata": {},
     "output_type": "execute_result"
    }
   ],
   "source": [
    "import numpy as np\n",
    "import matplotlib.pyplot as plt\n",
    "import pandas as pd\n",
    "import seaborn as sns\n",
    "from sklearn.model_selection import train_test_split\n",
    "\n",
    "# load data from data/train.csv into a pandas dataframe\n",
    "df = pd.read_csv('data/train.csv')\n",
    "\n",
    "def process_data(df, isTrainSet=True):\n",
    "\n",
    "    if isTrainSet:\n",
    "        # remove Transported from df and assign it to y\n",
    "        y = df.pop('Transported')\n",
    "    else:\n",
    "        y = None\n",
    "\n",
    "\n",
    "    #copy X\n",
    "    X = df.copy(deep=True)\n",
    "    # split Cabin into Deck, Number and Side\n",
    "    X[['Cabin_Deck', 'Cabin_Number', 'Cabin_Side']] = X['Cabin'].str.split('/', expand=True)\n",
    "    # cast Cabin_number as int\n",
    "    X['Cabin_Number'] = X['Cabin_Number'].astype('float64')\n",
    "    # drop Cabin, PassengerId and Name\n",
    "    X.drop(['Cabin', 'PassengerId', 'Name'], axis=1, inplace=True)\n",
    "\n",
    "    # convert CryoSleep to bool\n",
    "    #X['CryoSleep'] = X['CryoSleep'].astype('bool')\n",
    "\n",
    "    # convert VIP to bool\n",
    "    #X['VIP'] = X['VIP'].astype('bool')\n",
    "\n",
    "    # identify columns with bool data type\n",
    "    bool_cols = [col for col in X.columns if X[col].dtype == 'bool']\n",
    "    # set bool columns to int\n",
    "    X[bool_cols] = X[bool_cols].astype('int64')\n",
    "\n",
    "    # splitting TotalSpending into 2 groups\n",
    "    spending1 = ['FoodCourt', 'ShoppingMall']\n",
    "    spending2 = ['Spa', 'RoomService', 'VRDeck']\n",
    "\n",
    "    # create 2 aggregate columns and drop the original columns\n",
    "    X['spending1'] = X[spending1].sum(axis=1, skipna=True)\n",
    "    X['spending2'] = X[spending2].sum(axis=1, skipna=True)\n",
    "    X.drop(spending1 + spending2, axis=1, inplace=True)\n",
    "\n",
    "    return X, y\n",
    "\n",
    "X, y = process_data(df, True)\n",
    "\n",
    "X_train, X_val, y_train, y_val = train_test_split(X, y, test_size=0.2, random_state=48)\n",
    "print(X_train.head(10))\n",
    "# print data types in X_train\n",
    "X_train.dtypes"
   ]
  },
  {
   "cell_type": "markdown",
   "metadata": {},
   "source": [
    "### Create preprocessing pipeline"
   ]
  },
  {
   "cell_type": "code",
   "execution_count": 2,
   "metadata": {},
   "outputs": [
    {
     "name": "stdout",
     "output_type": "stream",
     "text": [
      "Training data shape: (6954, 24)\n",
      "Validation data shape: (1739, 24)\n"
     ]
    }
   ],
   "source": [
    "from sklearn.compose import ColumnTransformer\n",
    "from sklearn.pipeline import Pipeline\n",
    "from sklearn.impute import SimpleImputer\n",
    "from sklearn.preprocessing import OneHotEncoder, RobustScaler\n",
    "\n",
    "# generate numerical columns and categorical column lists from X_train datatypes   \n",
    "numerical_columns = X_train.select_dtypes(include=['float64', 'int64', 'bool']).columns\n",
    "categorical_columns = X_train.select_dtypes(include=['object']).columns\n",
    "\n",
    "# create inputers for numerical and categorical data\n",
    "numerical_inputer = SimpleImputer(strategy='median')\n",
    "categorical_inputer = SimpleImputer(strategy='most_frequent')\n",
    "robust_scaler = RobustScaler()\n",
    "\n",
    "# not sure if this robust scaler is better\n",
    "#robust_scaler = RobustScaler(quantile_range=(10.0, 90.0), unit_variance=True)\n",
    "\n",
    "# create one hot encoder for categorical data\n",
    "one_hot_encoder = OneHotEncoder(handle_unknown='ignore')\n",
    "\n",
    "# create column transformer for numerical and categorical data\n",
    "preprocessor = ColumnTransformer(\n",
    "    transformers=[\n",
    "            ('num', Pipeline(steps = [('imputer', numerical_inputer),\n",
    "                                      ('scaler', robust_scaler)]), numerical_columns),\n",
    "            ('cat', Pipeline(steps = [('imputer', categorical_inputer),\n",
    "                                      ('onehot', one_hot_encoder)]), categorical_columns)\n",
    "])\n",
    "\n",
    "# assemble the pipeline\n",
    "preprocessing_pipeline = Pipeline(steps=[('preprocessor', preprocessor)])\n",
    "\n",
    "# apply the pipeline to the training data\n",
    "X_train_preprocessed = preprocessing_pipeline.fit_transform(X_train)\n",
    "# apply to validation data\n",
    "X_val_preprocessed = preprocessing_pipeline.transform(X_val)\n",
    "\n",
    "# print the shape of the training and validation data\n",
    "print(\"Training data shape:\", X_train_preprocessed.shape)\n",
    "print(\"Validation data shape:\", X_val_preprocessed.shape)"
   ]
  },
  {
   "cell_type": "code",
   "execution_count": 9,
   "metadata": {},
   "outputs": [
    {
     "name": "stdout",
     "output_type": "stream",
     "text": [
      "Epoch 1/10\n",
      "218/218 [==============================] - 0s 893us/step - loss: 0.4429 - accuracy: 0.7852\n",
      "Epoch 2/10\n",
      "218/218 [==============================] - 0s 965us/step - loss: 0.4092 - accuracy: 0.8066\n",
      "Epoch 3/10\n",
      "218/218 [==============================] - 0s 1ms/step - loss: 0.3998 - accuracy: 0.8076\n",
      "Epoch 4/10\n",
      "218/218 [==============================] - 0s 1ms/step - loss: 0.3976 - accuracy: 0.8076\n",
      "Epoch 5/10\n",
      "218/218 [==============================] - 0s 954us/step - loss: 0.3925 - accuracy: 0.8159\n",
      "Epoch 6/10\n",
      "218/218 [==============================] - 0s 932us/step - loss: 0.3876 - accuracy: 0.8144\n",
      "Epoch 7/10\n",
      "218/218 [==============================] - 0s 924us/step - loss: 0.3829 - accuracy: 0.8149\n",
      "Epoch 8/10\n",
      "218/218 [==============================] - 0s 926us/step - loss: 0.3790 - accuracy: 0.8162\n",
      "Epoch 9/10\n",
      "218/218 [==============================] - 0s 937us/step - loss: 0.3752 - accuracy: 0.8164\n",
      "Epoch 10/10\n",
      "218/218 [==============================] - 0s 926us/step - loss: 0.3701 - accuracy: 0.8208\n",
      "55/55 [==============================] - 0s 437us/step - loss: 0.3977 - accuracy: 0.7976\n",
      "---------------------------------------------\n",
      "Validation Accuracy: 0.7975848317146301\n"
     ]
    }
   ],
   "source": [
    "# Trying Deep Neural Network\n",
    "#from tensorflow.keras.models import Sequential\n",
    "#from tensorflow.keras.layers import Dense\n",
    "import tensorflow as tf\n",
    "from tensorflow.keras.models import Sequential\n",
    "from tensorflow.keras.layers import Dense, Dropout\n",
    "\n",
    "# Create the neural network model\n",
    "nn_model = Sequential([\n",
    "    Dense(256, activation='relu', input_shape=(X_train_preprocessed.shape[1],)),\n",
    "    Dropout(0.1),\n",
    "    Dense(256, activation='relu'),\n",
    "    Dropout(0.1),\n",
    "    Dense(64, activation='relu'),\n",
    "    Dense(1, activation='sigmoid')\n",
    "])\n",
    "\n",
    "nn_model.compile(optimizer='adam', loss='binary_crossentropy', metrics=['accuracy'])\n",
    "\n",
    "# Train the model\n",
    "nn_model.fit(X_train_preprocessed, y_train, epochs=10, batch_size=32)\n",
    "\n",
    "# Evaluate the model\n",
    "nn_loss, nn_accuracy = nn_model.evaluate(X_val_preprocessed, y_val)\n",
    "\n",
    "print('-'*45)\n",
    "print(\"Validation Accuracy:\", nn_accuracy)"
   ]
  },
  {
   "cell_type": "code",
   "execution_count": 10,
   "metadata": {},
   "outputs": [
    {
     "name": "stdout",
     "output_type": "stream",
     "text": [
      "Trial 30 Complete [00h 00m 02s]\n",
      "val_accuracy: 0.8027601838111877\n",
      "\n",
      "Best val_accuracy So Far: 0.8108108043670654\n",
      "Total elapsed time: 00h 00m 41s\n",
      "{'units': 512, 'dropout': 0.35000000000000003, 'tuner/epochs': 10, 'tuner/initial_epoch': 4, 'tuner/bracket': 2, 'tuner/round': 2, 'tuner/trial_id': '0015'}\n",
      "55/55 [==============================] - 0s 524us/step - loss: 0.3944 - accuracy: 0.8108\n",
      "[0.3943541347980499, 0.8108108043670654]\n"
     ]
    }
   ],
   "source": [
    "\n",
    "import keras_tuner as kt\n",
    "from tensorflow.keras.layers import Dense, Dropout\n",
    "from tensorflow.keras.regularizers import l2\n",
    "\n",
    "def build_model(hp):\n",
    "    model = Sequential()\n",
    "    model.add(Dense(units=hp.Int('units', min_value=32, max_value=512, step=32),\n",
    "                    activation='relu', input_shape=(X_train_preprocessed.shape[1],)))\n",
    "    model.add(Dropout(hp.Float('dropout', min_value=0.0, max_value=0.5, default=0.25, step=0.05)))\n",
    "    model.add(Dense(units=hp.Int('units', min_value=32, max_value=256, step=32),\n",
    "                    activation='relu',))\n",
    "    model.add(Dropout(hp.Float('dropout', min_value=0.0, max_value=0.5, default=0.25, step=0.05)))\n",
    "    model.add(Dense(1, activation='sigmoid'))\n",
    "    model.compile(optimizer='adam',\n",
    "                  loss='binary_crossentropy',\n",
    "                  metrics=['accuracy'])\n",
    "    return model\n",
    "\n",
    "tuner = kt.Hyperband(build_model,\n",
    "                     objective='val_accuracy',\n",
    "                     max_epochs=10,\n",
    "                     directory='my_dir/test_08',\n",
    "                     project_name='intro_to_kt')\n",
    "\n",
    "tuner.search(X_train_preprocessed, y_train, epochs=10, validation_data=(X_val_preprocessed, y_val))\n",
    "\n",
    "# Get the optimal hyperparameters\n",
    "best_hps = tuner.get_best_hyperparameters(num_trials=1)[0]\n",
    "print(best_hps.values)\n",
    "# print best accuracy\n",
    "print(tuner.get_best_models()[0].evaluate(X_val_preprocessed, y_val))"
   ]
  },
  {
   "cell_type": "markdown",
   "metadata": {},
   "source": [
    "### Adding ROC analysis on the validation set"
   ]
  },
  {
   "cell_type": "code",
   "execution_count": 24,
   "metadata": {},
   "outputs": [
    {
     "name": "stdout",
     "output_type": "stream",
     "text": [
      "55/55 [==============================] - 0s 504us/step\n",
      "WARNING:tensorflow:Detecting that an object or model or tf.train.Checkpoint is being deleted with unrestored values. See the following logs for the specific values in question. To silence these warnings, use `status.expect_partial()`. See https://www.tensorflow.org/api_docs/python/tf/train/Checkpoint#restorefor details about the status object returned by the restore function.\n",
      "WARNING:tensorflow:Value in checkpoint could not be found in the restored object: (root).optimizer.iter\n",
      "WARNING:tensorflow:Value in checkpoint could not be found in the restored object: (root).optimizer.beta_1\n",
      "WARNING:tensorflow:Value in checkpoint could not be found in the restored object: (root).optimizer.beta_2\n",
      "WARNING:tensorflow:Value in checkpoint could not be found in the restored object: (root).optimizer.decay\n",
      "WARNING:tensorflow:Value in checkpoint could not be found in the restored object: (root).optimizer.learning_rate\n",
      "WARNING:tensorflow:Detecting that an object or model or tf.train.Checkpoint is being deleted with unrestored values. See the following logs for the specific values in question. To silence these warnings, use `status.expect_partial()`. See https://www.tensorflow.org/api_docs/python/tf/train/Checkpoint#restorefor details about the status object returned by the restore function.\n",
      "WARNING:tensorflow:Value in checkpoint could not be found in the restored object: (root).optimizer.iter\n",
      "WARNING:tensorflow:Value in checkpoint could not be found in the restored object: (root).optimizer.beta_1\n",
      "WARNING:tensorflow:Value in checkpoint could not be found in the restored object: (root).optimizer.beta_2\n",
      "WARNING:tensorflow:Value in checkpoint could not be found in the restored object: (root).optimizer.decay\n",
      "WARNING:tensorflow:Value in checkpoint could not be found in the restored object: (root).optimizer.learning_rate\n"
     ]
    },
    {
     "data": {
      "image/png": "[encoded data removed]",
      "text/plain": [
       "<Figure size 1000x500 with 2 Axes>"
      ]
     },
     "metadata": {},
     "output_type": "display_data"
    },
    {
     "name": "stdout",
     "output_type": "stream",
     "text": [
      "Optimal threshold: 0.494600385427475\n"
     ]
    }
   ],
   "source": [
    "from sklearn.metrics import precision_recall_curve, roc_curve, auc, f1_score\n",
    "import numpy as np\n",
    "\n",
    "y_val_pred = tuner.get_best_models()[0].predict(X_val_preprocessed)\n",
    "\n",
    "# Calculate precision, recall, and thresholds\n",
    "precision, recall, thresholds = precision_recall_curve(y_val, y_val_pred)\n",
    "\n",
    "# Calculate F1 scores for different thresholds\n",
    "f1_scores = 2 * recall * precision / (recall + precision)\n",
    "\n",
    "plt.figure(figsize=(10, 5))\n",
    "\n",
    "# Plot Precision-Recall curve\n",
    "plt.subplot(1, 2, 1)\n",
    "plt.plot(recall, precision)\n",
    "plt.xlabel('Recall')\n",
    "plt.ylabel('Precision')\n",
    "plt.title('Precision-Recall Curve')\n",
    "\n",
    "# Plot ROC curve\n",
    "fpr, tpr, _ = roc_curve(y_val, y_val_pred)\n",
    "roc_auc = auc(fpr, tpr)\n",
    "\n",
    "plt.subplot(1, 2, 2)\n",
    "plt.plot(fpr, tpr, label=f'ROC curve (area = {roc_auc:.2f})')\n",
    "plt.xlabel('False Positive Rate')\n",
    "plt.ylabel('True Positive Rate')\n",
    "plt.title('ROC Curve')\n",
    "plt.legend(loc='lower right')\n",
    "\n",
    "plt.tight_layout()\n",
    "plt.show()\n",
    "\n",
    "# Find the optimal threshold\n",
    "optimal_idx = np.argmax(f1_scores)\n",
    "optimal_threshold = thresholds[optimal_idx]\n",
    "\n",
    "print(f\"Optimal threshold: {optimal_threshold}\")\n"
   ]
  },
  {
   "cell_type": "code",
   "execution_count": 25,
   "metadata": {},
   "outputs": [
    {
     "name": "stdout",
     "output_type": "stream",
     "text": [
      "134/134 [==============================] - 0s 438us/step\n",
      "  PassengerId  Transported\n",
      "0     0013_01        False\n",
      "1     0018_01        False\n",
      "2     0019_01         True\n",
      "3     0021_01         True\n",
      "4     0023_01        False\n"
     ]
    }
   ],
   "source": [
    "# load the test data\n",
    "df_test = pd.read_csv('data/test.csv')\n",
    "\n",
    "# save PassengerId for submission\n",
    "passenger_ids = df_test['PassengerId']\n",
    "\n",
    "# process the test data like for the training\n",
    "X_test, _ = process_data(df_test, isTrainSet=False)\n",
    "\n",
    "# apply the pipeline to the test data\n",
    "X_test_preprocessed = preprocessing_pipeline.transform(X_test)\n",
    "\n",
    "# use the best model to predict the test data\n",
    "y_test_pred = tuner.get_best_models()[0].predict(X_test_preprocessed)\n",
    "\n",
    "# transform predictions into boolean values with optimal threshold\n",
    "y_test_submit = (y_test_pred > optimal_threshold).astype(bool)\n",
    "\n",
    "# create a dataframe with the passenger ids and predicted values\n",
    "df_submit = pd.DataFrame({'PassengerId': passenger_ids, 'Transported': y_test_submit.flatten()})\n",
    "# save the dataframe as a csv file\n",
    "df_submit.to_csv('data/submit_DNN_09.csv', index=False)\n",
    "print(df_submit.head())\n"
   ]
  },
  {
   "cell_type": "code",
   "execution_count": null,
   "metadata": {},
   "outputs": [],
   "source": []
  }
 ],
 "metadata": {
  "kernelspec": {
   "display_name": "2023_12_26_KaggleTitanic",
   "language": "python",
   "name": "python3"
  },
  "language_info": {
   "codemirror_mode": {
    "name": "ipython",
    "version": 3
   },
   "file_extension": ".py",
   "mimetype": "text/x-python",
   "name": "python",
   "nbconvert_exporter": "python",
   "pygments_lexer": "ipython3",
   "version": "3.11.5"
  }
 },
 "nbformat": 4,
 "nbformat_minor": 2
}
